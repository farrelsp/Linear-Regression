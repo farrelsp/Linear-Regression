{
  "cells": [
    {
      "cell_type": "code",
      "execution_count": null,
      "id": "3463966b",
      "metadata": {
        "id": "3463966b"
      },
      "outputs": [],
      "source": [
        "import numpy as np\n",
        "import pandas as pd\n",
        "import matplotlib.pyplot as plt\n",
        "from sklearn.linear_model import LinearRegression\n",
        "from sklearn.model_selection import train_test_split"
      ]
    },
    {
      "cell_type": "markdown",
      "id": "f7e0968c",
      "metadata": {
        "id": "f7e0968c"
      },
      "source": [
        "## Soal 1 - Sales Perusahaan"
      ]
    },
    {
      "cell_type": "code",
      "execution_count": null,
      "id": "528ce8f6",
      "metadata": {
        "id": "528ce8f6"
      },
      "outputs": [],
      "source": [
        "sales_df = pd.read_csv(\"Company_data.csv\")"
      ]
    },
    {
      "cell_type": "code",
      "execution_count": null,
      "id": "49584442",
      "metadata": {
        "id": "49584442",
        "outputId": "f05f07ec-534d-4df7-f7f1-a0b59054af9c"
      },
      "outputs": [
        {
          "data": {
            "text/html": [
              "<div>\n",
              "<style scoped>\n",
              "    .dataframe tbody tr th:only-of-type {\n",
              "        vertical-align: middle;\n",
              "    }\n",
              "\n",
              "    .dataframe tbody tr th {\n",
              "        vertical-align: top;\n",
              "    }\n",
              "\n",
              "    .dataframe thead th {\n",
              "        text-align: right;\n",
              "    }\n",
              "</style>\n",
              "<table border=\"1\" class=\"dataframe\">\n",
              "  <thead>\n",
              "    <tr style=\"text-align: right;\">\n",
              "      <th></th>\n",
              "      <th>TV</th>\n",
              "      <th>Radio</th>\n",
              "      <th>Newspaper</th>\n",
              "      <th>Sales</th>\n",
              "    </tr>\n",
              "  </thead>\n",
              "  <tbody>\n",
              "    <tr>\n",
              "      <th>0</th>\n",
              "      <td>230.1</td>\n",
              "      <td>37.8</td>\n",
              "      <td>69.2</td>\n",
              "      <td>22.1</td>\n",
              "    </tr>\n",
              "    <tr>\n",
              "      <th>1</th>\n",
              "      <td>44.5</td>\n",
              "      <td>39.3</td>\n",
              "      <td>45.1</td>\n",
              "      <td>10.4</td>\n",
              "    </tr>\n",
              "    <tr>\n",
              "      <th>2</th>\n",
              "      <td>17.2</td>\n",
              "      <td>45.9</td>\n",
              "      <td>69.3</td>\n",
              "      <td>12.0</td>\n",
              "    </tr>\n",
              "    <tr>\n",
              "      <th>3</th>\n",
              "      <td>151.5</td>\n",
              "      <td>41.3</td>\n",
              "      <td>58.5</td>\n",
              "      <td>16.5</td>\n",
              "    </tr>\n",
              "    <tr>\n",
              "      <th>4</th>\n",
              "      <td>180.8</td>\n",
              "      <td>10.8</td>\n",
              "      <td>58.4</td>\n",
              "      <td>17.9</td>\n",
              "    </tr>\n",
              "  </tbody>\n",
              "</table>\n",
              "</div>"
            ],
            "text/plain": [
              "      TV  Radio  Newspaper  Sales\n",
              "0  230.1   37.8       69.2   22.1\n",
              "1   44.5   39.3       45.1   10.4\n",
              "2   17.2   45.9       69.3   12.0\n",
              "3  151.5   41.3       58.5   16.5\n",
              "4  180.8   10.8       58.4   17.9"
            ]
          },
          "execution_count": 5,
          "metadata": {},
          "output_type": "execute_result"
        }
      ],
      "source": [
        "sales_df.head()"
      ]
    },
    {
      "cell_type": "code",
      "execution_count": null,
      "id": "61b9a136",
      "metadata": {
        "id": "61b9a136",
        "outputId": "39993d86-4589-4335-cde7-b21d8c56ec6b"
      },
      "outputs": [
        {
          "data": {
            "text/html": [
              "<div>\n",
              "<style scoped>\n",
              "    .dataframe tbody tr th:only-of-type {\n",
              "        vertical-align: middle;\n",
              "    }\n",
              "\n",
              "    .dataframe tbody tr th {\n",
              "        vertical-align: top;\n",
              "    }\n",
              "\n",
              "    .dataframe thead th {\n",
              "        text-align: right;\n",
              "    }\n",
              "</style>\n",
              "<table border=\"1\" class=\"dataframe\">\n",
              "  <thead>\n",
              "    <tr style=\"text-align: right;\">\n",
              "      <th></th>\n",
              "      <th>TV</th>\n",
              "      <th>Radio</th>\n",
              "      <th>Newspaper</th>\n",
              "      <th>Sales</th>\n",
              "    </tr>\n",
              "  </thead>\n",
              "  <tbody>\n",
              "    <tr>\n",
              "      <th>count</th>\n",
              "      <td>200.000000</td>\n",
              "      <td>200.000000</td>\n",
              "      <td>200.000000</td>\n",
              "      <td>200.000000</td>\n",
              "    </tr>\n",
              "    <tr>\n",
              "      <th>mean</th>\n",
              "      <td>147.042500</td>\n",
              "      <td>23.264000</td>\n",
              "      <td>30.554000</td>\n",
              "      <td>15.130500</td>\n",
              "    </tr>\n",
              "    <tr>\n",
              "      <th>std</th>\n",
              "      <td>85.854236</td>\n",
              "      <td>14.846809</td>\n",
              "      <td>21.778621</td>\n",
              "      <td>5.283892</td>\n",
              "    </tr>\n",
              "    <tr>\n",
              "      <th>min</th>\n",
              "      <td>0.700000</td>\n",
              "      <td>0.000000</td>\n",
              "      <td>0.300000</td>\n",
              "      <td>1.600000</td>\n",
              "    </tr>\n",
              "    <tr>\n",
              "      <th>25%</th>\n",
              "      <td>74.375000</td>\n",
              "      <td>9.975000</td>\n",
              "      <td>12.750000</td>\n",
              "      <td>11.000000</td>\n",
              "    </tr>\n",
              "    <tr>\n",
              "      <th>50%</th>\n",
              "      <td>149.750000</td>\n",
              "      <td>22.900000</td>\n",
              "      <td>25.750000</td>\n",
              "      <td>16.000000</td>\n",
              "    </tr>\n",
              "    <tr>\n",
              "      <th>75%</th>\n",
              "      <td>218.825000</td>\n",
              "      <td>36.525000</td>\n",
              "      <td>45.100000</td>\n",
              "      <td>19.050000</td>\n",
              "    </tr>\n",
              "    <tr>\n",
              "      <th>max</th>\n",
              "      <td>296.400000</td>\n",
              "      <td>49.600000</td>\n",
              "      <td>114.000000</td>\n",
              "      <td>27.000000</td>\n",
              "    </tr>\n",
              "  </tbody>\n",
              "</table>\n",
              "</div>"
            ],
            "text/plain": [
              "               TV       Radio   Newspaper       Sales\n",
              "count  200.000000  200.000000  200.000000  200.000000\n",
              "mean   147.042500   23.264000   30.554000   15.130500\n",
              "std     85.854236   14.846809   21.778621    5.283892\n",
              "min      0.700000    0.000000    0.300000    1.600000\n",
              "25%     74.375000    9.975000   12.750000   11.000000\n",
              "50%    149.750000   22.900000   25.750000   16.000000\n",
              "75%    218.825000   36.525000   45.100000   19.050000\n",
              "max    296.400000   49.600000  114.000000   27.000000"
            ]
          },
          "execution_count": 6,
          "metadata": {},
          "output_type": "execute_result"
        }
      ],
      "source": [
        "sales_df.describe()"
      ]
    },
    {
      "cell_type": "markdown",
      "id": "fda3c598",
      "metadata": {
        "id": "fda3c598"
      },
      "source": [
        "Terlihat dari nilai rata-rata bahwa iklan di TV memakan biaya paling besar dibanding iklan di Radio ataupun di koran."
      ]
    },
    {
      "cell_type": "code",
      "execution_count": null,
      "id": "a704be41",
      "metadata": {
        "id": "a704be41",
        "outputId": "6a6268b2-edff-4ef7-b8be-fa9523f52b3d"
      },
      "outputs": [
        {
          "name": "stdout",
          "output_type": "stream",
          "text": [
            "<class 'pandas.core.frame.DataFrame'>\n",
            "RangeIndex: 200 entries, 0 to 199\n",
            "Data columns (total 4 columns):\n",
            " #   Column     Non-Null Count  Dtype  \n",
            "---  ------     --------------  -----  \n",
            " 0   TV         200 non-null    float64\n",
            " 1   Radio      200 non-null    float64\n",
            " 2   Newspaper  200 non-null    float64\n",
            " 3   Sales      200 non-null    float64\n",
            "dtypes: float64(4)\n",
            "memory usage: 6.4 KB\n"
          ]
        }
      ],
      "source": [
        "sales_df.info()"
      ]
    },
    {
      "cell_type": "markdown",
      "id": "17469f16",
      "metadata": {
        "id": "17469f16"
      },
      "source": [
        "Tipe data dalam dataset sudah sesuai."
      ]
    },
    {
      "cell_type": "markdown",
      "id": "d7ce0a01",
      "metadata": {
        "id": "d7ce0a01"
      },
      "source": [
        "### Linear Regression - TV"
      ]
    },
    {
      "cell_type": "markdown",
      "id": "7230a7aa",
      "metadata": {
        "id": "7230a7aa"
      },
      "source": [
        "#### Split data train/test"
      ]
    },
    {
      "cell_type": "code",
      "execution_count": null,
      "id": "8ce1652d",
      "metadata": {
        "id": "8ce1652d"
      },
      "outputs": [],
      "source": [
        "X = sales_df[['TV']]\n",
        "y = sales_df[['Sales']]"
      ]
    },
    {
      "cell_type": "code",
      "execution_count": null,
      "id": "404aefdc",
      "metadata": {
        "id": "404aefdc",
        "outputId": "2d264cad-2015-4362-dd19-ff7c492f1b33"
      },
      "outputs": [
        {
          "data": {
            "text/html": [
              "<div>\n",
              "<style scoped>\n",
              "    .dataframe tbody tr th:only-of-type {\n",
              "        vertical-align: middle;\n",
              "    }\n",
              "\n",
              "    .dataframe tbody tr th {\n",
              "        vertical-align: top;\n",
              "    }\n",
              "\n",
              "    .dataframe thead th {\n",
              "        text-align: right;\n",
              "    }\n",
              "</style>\n",
              "<table border=\"1\" class=\"dataframe\">\n",
              "  <thead>\n",
              "    <tr style=\"text-align: right;\">\n",
              "      <th></th>\n",
              "      <th>TV</th>\n",
              "    </tr>\n",
              "  </thead>\n",
              "  <tbody>\n",
              "    <tr>\n",
              "      <th>0</th>\n",
              "      <td>230.1</td>\n",
              "    </tr>\n",
              "    <tr>\n",
              "      <th>1</th>\n",
              "      <td>44.5</td>\n",
              "    </tr>\n",
              "  </tbody>\n",
              "</table>\n",
              "</div>"
            ],
            "text/plain": [
              "      TV\n",
              "0  230.1\n",
              "1   44.5"
            ]
          },
          "execution_count": 66,
          "metadata": {},
          "output_type": "execute_result"
        }
      ],
      "source": [
        "X.head(2)"
      ]
    },
    {
      "cell_type": "code",
      "execution_count": null,
      "id": "1b1d85a7",
      "metadata": {
        "id": "1b1d85a7",
        "outputId": "7e49a238-66fc-4674-dae5-4cf19c598ab3"
      },
      "outputs": [
        {
          "data": {
            "text/html": [
              "<div>\n",
              "<style scoped>\n",
              "    .dataframe tbody tr th:only-of-type {\n",
              "        vertical-align: middle;\n",
              "    }\n",
              "\n",
              "    .dataframe tbody tr th {\n",
              "        vertical-align: top;\n",
              "    }\n",
              "\n",
              "    .dataframe thead th {\n",
              "        text-align: right;\n",
              "    }\n",
              "</style>\n",
              "<table border=\"1\" class=\"dataframe\">\n",
              "  <thead>\n",
              "    <tr style=\"text-align: right;\">\n",
              "      <th></th>\n",
              "      <th>Sales</th>\n",
              "    </tr>\n",
              "  </thead>\n",
              "  <tbody>\n",
              "    <tr>\n",
              "      <th>0</th>\n",
              "      <td>22.1</td>\n",
              "    </tr>\n",
              "    <tr>\n",
              "      <th>1</th>\n",
              "      <td>10.4</td>\n",
              "    </tr>\n",
              "  </tbody>\n",
              "</table>\n",
              "</div>"
            ],
            "text/plain": [
              "   Sales\n",
              "0   22.1\n",
              "1   10.4"
            ]
          },
          "execution_count": 67,
          "metadata": {},
          "output_type": "execute_result"
        }
      ],
      "source": [
        "y.head(2)"
      ]
    },
    {
      "cell_type": "code",
      "execution_count": null,
      "id": "d7e28109",
      "metadata": {
        "id": "d7e28109"
      },
      "outputs": [],
      "source": [
        "X_train, X_test, y_train, y_test = train_test_split(X, y, random_state=0)"
      ]
    },
    {
      "cell_type": "code",
      "execution_count": null,
      "id": "7ea4e59c",
      "metadata": {
        "scrolled": true,
        "id": "7ea4e59c",
        "outputId": "577c4a2d-1866-4664-fd04-e5ddd4acd322"
      },
      "outputs": [
        {
          "data": {
            "text/html": [
              "<div>\n",
              "<style scoped>\n",
              "    .dataframe tbody tr th:only-of-type {\n",
              "        vertical-align: middle;\n",
              "    }\n",
              "\n",
              "    .dataframe tbody tr th {\n",
              "        vertical-align: top;\n",
              "    }\n",
              "\n",
              "    .dataframe thead th {\n",
              "        text-align: right;\n",
              "    }\n",
              "</style>\n",
              "<table border=\"1\" class=\"dataframe\">\n",
              "  <thead>\n",
              "    <tr style=\"text-align: right;\">\n",
              "      <th></th>\n",
              "      <th>TV</th>\n",
              "    </tr>\n",
              "  </thead>\n",
              "  <tbody>\n",
              "    <tr>\n",
              "      <th>71</th>\n",
              "      <td>109.8</td>\n",
              "    </tr>\n",
              "    <tr>\n",
              "      <th>124</th>\n",
              "      <td>229.5</td>\n",
              "    </tr>\n",
              "    <tr>\n",
              "      <th>184</th>\n",
              "      <td>253.8</td>\n",
              "    </tr>\n",
              "    <tr>\n",
              "      <th>97</th>\n",
              "      <td>184.9</td>\n",
              "    </tr>\n",
              "    <tr>\n",
              "      <th>149</th>\n",
              "      <td>44.7</td>\n",
              "    </tr>\n",
              "  </tbody>\n",
              "</table>\n",
              "</div>"
            ],
            "text/plain": [
              "        TV\n",
              "71   109.8\n",
              "124  229.5\n",
              "184  253.8\n",
              "97   184.9\n",
              "149   44.7"
            ]
          },
          "execution_count": 77,
          "metadata": {},
          "output_type": "execute_result"
        }
      ],
      "source": [
        "X_train.head()"
      ]
    },
    {
      "cell_type": "code",
      "execution_count": null,
      "id": "4a36a02e",
      "metadata": {
        "id": "4a36a02e",
        "outputId": "b8b2777c-713c-4efe-a770-5771906c84e7"
      },
      "outputs": [
        {
          "data": {
            "text/html": [
              "<div>\n",
              "<style scoped>\n",
              "    .dataframe tbody tr th:only-of-type {\n",
              "        vertical-align: middle;\n",
              "    }\n",
              "\n",
              "    .dataframe tbody tr th {\n",
              "        vertical-align: top;\n",
              "    }\n",
              "\n",
              "    .dataframe thead th {\n",
              "        text-align: right;\n",
              "    }\n",
              "</style>\n",
              "<table border=\"1\" class=\"dataframe\">\n",
              "  <thead>\n",
              "    <tr style=\"text-align: right;\">\n",
              "      <th></th>\n",
              "      <th>Sales</th>\n",
              "    </tr>\n",
              "  </thead>\n",
              "  <tbody>\n",
              "    <tr>\n",
              "      <th>71</th>\n",
              "      <td>12.4</td>\n",
              "    </tr>\n",
              "    <tr>\n",
              "      <th>124</th>\n",
              "      <td>19.7</td>\n",
              "    </tr>\n",
              "    <tr>\n",
              "      <th>184</th>\n",
              "      <td>17.6</td>\n",
              "    </tr>\n",
              "    <tr>\n",
              "      <th>97</th>\n",
              "      <td>20.5</td>\n",
              "    </tr>\n",
              "    <tr>\n",
              "      <th>149</th>\n",
              "      <td>10.1</td>\n",
              "    </tr>\n",
              "  </tbody>\n",
              "</table>\n",
              "</div>"
            ],
            "text/plain": [
              "     Sales\n",
              "71    12.4\n",
              "124   19.7\n",
              "184   17.6\n",
              "97    20.5\n",
              "149   10.1"
            ]
          },
          "execution_count": 78,
          "metadata": {},
          "output_type": "execute_result"
        }
      ],
      "source": [
        "y_train.head()"
      ]
    },
    {
      "cell_type": "markdown",
      "id": "a1160bd5",
      "metadata": {
        "id": "a1160bd5"
      },
      "source": [
        "#### Build the model"
      ]
    },
    {
      "cell_type": "code",
      "execution_count": null,
      "id": "b575c509",
      "metadata": {
        "id": "b575c509",
        "outputId": "9331a4e6-7d7a-4c4c-99cd-3350b29201d5"
      },
      "outputs": [
        {
          "name": "stdout",
          "output_type": "stream",
          "text": [
            "Coefficients:  [0.05452888]\n",
            "Intercept:  [7.12887806]\n"
          ]
        }
      ],
      "source": [
        "reg_tv = LinearRegression().fit(X_train, y_train)\n",
        "\n",
        "print ('Coefficients: ', reg_tv.coef_[0])\n",
        "print ('Intercept: ', reg_tv.intercept_)"
      ]
    },
    {
      "cell_type": "code",
      "execution_count": null,
      "id": "cd76890e",
      "metadata": {
        "id": "cd76890e",
        "outputId": "03fbfa25-3120-4db0-b49e-d6f0cc255904"
      },
      "outputs": [
        {
          "data": {
            "image/png": "[encoded data removed]",
            "text/plain": [
              "<Figure size 576x432 with 1 Axes>"
            ]
          },
          "metadata": {
            "needs_background": "light"
          },
          "output_type": "display_data"
        }
      ],
      "source": [
        "reg_line = reg_tv.coef_[0][0]*X_train + reg_tv.intercept_[0]\n",
        "\n",
        "plt.figure(figsize=(8,6))\n",
        "plt.scatter(X_train, y_train, color='blue')\n",
        "plt.plot(X_train['TV'], reg_line['TV'], '-r')\n",
        "plt.xlabel(\"TV\")\n",
        "plt.ylabel(\"Sales\")\n",
        "plt.show()"
      ]
    },
    {
      "cell_type": "markdown",
      "id": "5ce675ea",
      "metadata": {
        "id": "5ce675ea"
      },
      "source": [
        "#### Prediction"
      ]
    },
    {
      "cell_type": "code",
      "execution_count": null,
      "id": "c2e7d324",
      "metadata": {
        "id": "c2e7d324",
        "outputId": "836e746b-7a59-42a4-a1a2-537e06a358b1"
      },
      "outputs": [
        {
          "data": {
            "text/plain": [
              "array([[10.90227673],\n",
              "       [ 9.85532218],\n",
              "       [12.05828903],\n",
              "       [22.92589531],\n",
              "       [16.40969385]])"
            ]
          },
          "execution_count": 80,
          "metadata": {},
          "output_type": "execute_result"
        }
      ],
      "source": [
        "predictions = reg_tv.predict(X_test)\n",
        "predictions[:5]"
      ]
    },
    {
      "cell_type": "code",
      "execution_count": null,
      "id": "ccb11187",
      "metadata": {
        "id": "ccb11187",
        "outputId": "ba48185c-55db-463c-bec5-842d77fb9f90"
      },
      "outputs": [
        {
          "data": {
            "text/html": [
              "<div>\n",
              "<style scoped>\n",
              "    .dataframe tbody tr th:only-of-type {\n",
              "        vertical-align: middle;\n",
              "    }\n",
              "\n",
              "    .dataframe tbody tr th {\n",
              "        vertical-align: top;\n",
              "    }\n",
              "\n",
              "    .dataframe thead th {\n",
              "        text-align: right;\n",
              "    }\n",
              "</style>\n",
              "<table border=\"1\" class=\"dataframe\">\n",
              "  <thead>\n",
              "    <tr style=\"text-align: right;\">\n",
              "      <th></th>\n",
              "      <th>Pred</th>\n",
              "      <th>Actual</th>\n",
              "    </tr>\n",
              "  </thead>\n",
              "  <tbody>\n",
              "    <tr>\n",
              "      <th>0</th>\n",
              "      <td>10.902277</td>\n",
              "      <td>11.3</td>\n",
              "    </tr>\n",
              "    <tr>\n",
              "      <th>1</th>\n",
              "      <td>9.855322</td>\n",
              "      <td>8.4</td>\n",
              "    </tr>\n",
              "    <tr>\n",
              "      <th>2</th>\n",
              "      <td>12.058289</td>\n",
              "      <td>12.0</td>\n",
              "    </tr>\n",
              "    <tr>\n",
              "      <th>3</th>\n",
              "      <td>22.925895</td>\n",
              "      <td>25.4</td>\n",
              "    </tr>\n",
              "    <tr>\n",
              "      <th>4</th>\n",
              "      <td>16.409694</td>\n",
              "      <td>16.7</td>\n",
              "    </tr>\n",
              "  </tbody>\n",
              "</table>\n",
              "</div>"
            ],
            "text/plain": [
              "        Pred  Actual\n",
              "0  10.902277    11.3\n",
              "1   9.855322     8.4\n",
              "2  12.058289    12.0\n",
              "3  22.925895    25.4\n",
              "4  16.409694    16.7"
            ]
          },
          "execution_count": 90,
          "metadata": {},
          "output_type": "execute_result"
        }
      ],
      "source": [
        "predict_df = pd.DataFrame(predictions, columns=['Pred'])\n",
        "predict_df['Actual'] = y_test.values\n",
        "predict_df.head()"
      ]
    },
    {
      "cell_type": "markdown",
      "id": "0c5b2ab5",
      "metadata": {
        "id": "0c5b2ab5"
      },
      "source": [
        "#### Evaluation"
      ]
    },
    {
      "cell_type": "code",
      "execution_count": null,
      "id": "79dce3ab",
      "metadata": {
        "id": "79dce3ab",
        "outputId": "f838f89e-b3d4-4bd8-938b-b0ff02024733"
      },
      "outputs": [
        {
          "name": "stdout",
          "output_type": "stream",
          "text": [
            "RMSE: 2.4515\n"
          ]
        }
      ],
      "source": [
        "from sklearn.metrics import mean_squared_error\n",
        "rmse = mean_squared_error(predict_df['Actual'], predict_df['Pred'], squared=False)\n",
        "print(f\"RMSE: {round(rmse, 4)}\")"
      ]
    },
    {
      "cell_type": "code",
      "execution_count": null,
      "id": "1d30c8c2",
      "metadata": {
        "scrolled": true,
        "id": "1d30c8c2",
        "outputId": "97cc39d2-67cd-4620-bcba-05c19cb5bf89"
      },
      "outputs": [
        {
          "data": {
            "text/html": [
              "<table class=\"simpletable\">\n",
              "<caption>OLS Regression Results</caption>\n",
              "<tr>\n",
              "  <th>Dep. Variable:</th>          <td>Sales</td>      <th>  R-squared:         </th> <td>   0.810</td>\n",
              "</tr>\n",
              "<tr>\n",
              "  <th>Model:</th>                   <td>OLS</td>       <th>  Adj. R-squared:    </th> <td>   0.809</td>\n",
              "</tr>\n",
              "<tr>\n",
              "  <th>Method:</th>             <td>Least Squares</td>  <th>  F-statistic:       </th> <td>   631.4</td>\n",
              "</tr>\n",
              "<tr>\n",
              "  <th>Date:</th>             <td>Sun, 06 Nov 2022</td> <th>  Prob (F-statistic):</th> <td>2.95e-55</td>\n",
              "</tr>\n",
              "<tr>\n",
              "  <th>Time:</th>                 <td>15:28:49</td>     <th>  Log-Likelihood:    </th> <td> -332.98</td>\n",
              "</tr>\n",
              "<tr>\n",
              "  <th>No. Observations:</th>      <td>   150</td>      <th>  AIC:               </th> <td>   670.0</td>\n",
              "</tr>\n",
              "<tr>\n",
              "  <th>Df Residuals:</th>          <td>   148</td>      <th>  BIC:               </th> <td>   676.0</td>\n",
              "</tr>\n",
              "<tr>\n",
              "  <th>Df Model:</th>              <td>     1</td>      <th>                     </th>     <td> </td>   \n",
              "</tr>\n",
              "<tr>\n",
              "  <th>Covariance Type:</th>      <td>nonrobust</td>    <th>                     </th>     <td> </td>   \n",
              "</tr>\n",
              "</table>\n",
              "<table class=\"simpletable\">\n",
              "<tr>\n",
              "    <td></td>       <th>coef</th>     <th>std err</th>      <th>t</th>      <th>P>|t|</th>  <th>[0.025</th>    <th>0.975]</th>  \n",
              "</tr>\n",
              "<tr>\n",
              "  <th>const</th> <td>    7.1289</td> <td>    0.381</td> <td>   18.715</td> <td> 0.000</td> <td>    6.376</td> <td>    7.882</td>\n",
              "</tr>\n",
              "<tr>\n",
              "  <th>TV</th>    <td>    0.0545</td> <td>    0.002</td> <td>   25.128</td> <td> 0.000</td> <td>    0.050</td> <td>    0.059</td>\n",
              "</tr>\n",
              "</table>\n",
              "<table class=\"simpletable\">\n",
              "<tr>\n",
              "  <th>Omnibus:</th>       <td> 0.528</td> <th>  Durbin-Watson:     </th> <td>   2.283</td>\n",
              "</tr>\n",
              "<tr>\n",
              "  <th>Prob(Omnibus):</th> <td> 0.768</td> <th>  Jarque-Bera (JB):  </th> <td>   0.640</td>\n",
              "</tr>\n",
              "<tr>\n",
              "  <th>Skew:</th>          <td> 0.130</td> <th>  Prob(JB):          </th> <td>   0.726</td>\n",
              "</tr>\n",
              "<tr>\n",
              "  <th>Kurtosis:</th>      <td> 2.813</td> <th>  Cond. No.          </th> <td>    365.</td>\n",
              "</tr>\n",
              "</table><br/><br/>Notes:<br/>[1] Standard Errors assume that the covariance matrix of the errors is correctly specified."
            ],
            "text/plain": [
              "<class 'statsmodels.iolib.summary.Summary'>\n",
              "\"\"\"\n",
              "                            OLS Regression Results                            \n",
              "==============================================================================\n",
              "Dep. Variable:                  Sales   R-squared:                       0.810\n",
              "Model:                            OLS   Adj. R-squared:                  0.809\n",
              "Method:                 Least Squares   F-statistic:                     631.4\n",
              "Date:                Sun, 06 Nov 2022   Prob (F-statistic):           2.95e-55\n",
              "Time:                        15:28:49   Log-Likelihood:                -332.98\n",
              "No. Observations:                 150   AIC:                             670.0\n",
              "Df Residuals:                     148   BIC:                             676.0\n",
              "Df Model:                           1                                         \n",
              "Covariance Type:            nonrobust                                         \n",
              "==============================================================================\n",
              "                 coef    std err          t      P>|t|      [0.025      0.975]\n",
              "------------------------------------------------------------------------------\n",
              "const          7.1289      0.381     18.715      0.000       6.376       7.882\n",
              "TV             0.0545      0.002     25.128      0.000       0.050       0.059\n",
              "==============================================================================\n",
              "Omnibus:                        0.528   Durbin-Watson:                   2.283\n",
              "Prob(Omnibus):                  0.768   Jarque-Bera (JB):                0.640\n",
              "Skew:                           0.130   Prob(JB):                        0.726\n",
              "Kurtosis:                       2.813   Cond. No.                         365.\n",
              "==============================================================================\n",
              "\n",
              "Notes:\n",
              "[1] Standard Errors assume that the covariance matrix of the errors is correctly specified.\n",
              "\"\"\""
            ]
          },
          "execution_count": 89,
          "metadata": {},
          "output_type": "execute_result"
        }
      ],
      "source": [
        "import statsmodels.api as sm\n",
        "x_train = sm.add_constant(X_train)\n",
        "results = sm.OLS(y_train, x_train).fit()\n",
        "results.summary()"
      ]
    },
    {
      "cell_type": "markdown",
      "id": "8e0c7af5",
      "metadata": {
        "id": "8e0c7af5"
      },
      "source": [
        "#### Conclusion"
      ]
    },
    {
      "cell_type": "markdown",
      "id": "e74bf263",
      "metadata": {
        "id": "e74bf263"
      },
      "source": [
        "RMSE dari model termasuk kecil yaitu di angka 2,45. Nilai R-squared juga lebih besar dari 0.75 dimana variabel independen (TV) mampu menjelaskan variasi dari variabel dependen (sales) dengan baik. "
      ]
    },
    {
      "cell_type": "markdown",
      "id": "de76fd75",
      "metadata": {
        "id": "de76fd75"
      },
      "source": [
        "### Linear Regression - Radio"
      ]
    },
    {
      "cell_type": "markdown",
      "id": "b2fe7ed2",
      "metadata": {
        "id": "b2fe7ed2"
      },
      "source": [
        "#### Split data train/test"
      ]
    },
    {
      "cell_type": "code",
      "execution_count": null,
      "id": "74bd7363",
      "metadata": {
        "id": "74bd7363"
      },
      "outputs": [],
      "source": [
        "X = sales_df[['Radio']]\n",
        "y = sales_df[['Sales']]"
      ]
    },
    {
      "cell_type": "code",
      "execution_count": null,
      "id": "982b2b87",
      "metadata": {
        "id": "982b2b87",
        "outputId": "3ac9b4fa-39ab-41e5-d06d-c192d34f2e99"
      },
      "outputs": [
        {
          "data": {
            "text/html": [
              "<div>\n",
              "<style scoped>\n",
              "    .dataframe tbody tr th:only-of-type {\n",
              "        vertical-align: middle;\n",
              "    }\n",
              "\n",
              "    .dataframe tbody tr th {\n",
              "        vertical-align: top;\n",
              "    }\n",
              "\n",
              "    .dataframe thead th {\n",
              "        text-align: right;\n",
              "    }\n",
              "</style>\n",
              "<table border=\"1\" class=\"dataframe\">\n",
              "  <thead>\n",
              "    <tr style=\"text-align: right;\">\n",
              "      <th></th>\n",
              "      <th>Radio</th>\n",
              "    </tr>\n",
              "  </thead>\n",
              "  <tbody>\n",
              "    <tr>\n",
              "      <th>0</th>\n",
              "      <td>37.8</td>\n",
              "    </tr>\n",
              "    <tr>\n",
              "      <th>1</th>\n",
              "      <td>39.3</td>\n",
              "    </tr>\n",
              "  </tbody>\n",
              "</table>\n",
              "</div>"
            ],
            "text/plain": [
              "   Radio\n",
              "0   37.8\n",
              "1   39.3"
            ]
          },
          "execution_count": 117,
          "metadata": {},
          "output_type": "execute_result"
        }
      ],
      "source": [
        "X.head(2)"
      ]
    },
    {
      "cell_type": "code",
      "execution_count": null,
      "id": "05ad4f8a",
      "metadata": {
        "id": "05ad4f8a",
        "outputId": "54711959-7da0-427e-e58f-4aa67422b1d2"
      },
      "outputs": [
        {
          "data": {
            "text/html": [
              "<div>\n",
              "<style scoped>\n",
              "    .dataframe tbody tr th:only-of-type {\n",
              "        vertical-align: middle;\n",
              "    }\n",
              "\n",
              "    .dataframe tbody tr th {\n",
              "        vertical-align: top;\n",
              "    }\n",
              "\n",
              "    .dataframe thead th {\n",
              "        text-align: right;\n",
              "    }\n",
              "</style>\n",
              "<table border=\"1\" class=\"dataframe\">\n",
              "  <thead>\n",
              "    <tr style=\"text-align: right;\">\n",
              "      <th></th>\n",
              "      <th>Sales</th>\n",
              "    </tr>\n",
              "  </thead>\n",
              "  <tbody>\n",
              "    <tr>\n",
              "      <th>0</th>\n",
              "      <td>22.1</td>\n",
              "    </tr>\n",
              "    <tr>\n",
              "      <th>1</th>\n",
              "      <td>10.4</td>\n",
              "    </tr>\n",
              "  </tbody>\n",
              "</table>\n",
              "</div>"
            ],
            "text/plain": [
              "   Sales\n",
              "0   22.1\n",
              "1   10.4"
            ]
          },
          "execution_count": 118,
          "metadata": {},
          "output_type": "execute_result"
        }
      ],
      "source": [
        "y.head(2)"
      ]
    },
    {
      "cell_type": "code",
      "execution_count": null,
      "id": "0543dec2",
      "metadata": {
        "id": "0543dec2"
      },
      "outputs": [],
      "source": [
        "X_train, X_test, y_train, y_test = train_test_split(X, y, random_state=0)"
      ]
    },
    {
      "cell_type": "code",
      "execution_count": null,
      "id": "3ee77e2f",
      "metadata": {
        "scrolled": true,
        "id": "3ee77e2f",
        "outputId": "74f4ff6f-43f3-4487-b526-dd27a0bffda9"
      },
      "outputs": [
        {
          "data": {
            "text/html": [
              "<div>\n",
              "<style scoped>\n",
              "    .dataframe tbody tr th:only-of-type {\n",
              "        vertical-align: middle;\n",
              "    }\n",
              "\n",
              "    .dataframe tbody tr th {\n",
              "        vertical-align: top;\n",
              "    }\n",
              "\n",
              "    .dataframe thead th {\n",
              "        text-align: right;\n",
              "    }\n",
              "</style>\n",
              "<table border=\"1\" class=\"dataframe\">\n",
              "  <thead>\n",
              "    <tr style=\"text-align: right;\">\n",
              "      <th></th>\n",
              "      <th>Radio</th>\n",
              "    </tr>\n",
              "  </thead>\n",
              "  <tbody>\n",
              "    <tr>\n",
              "      <th>71</th>\n",
              "      <td>14.3</td>\n",
              "    </tr>\n",
              "    <tr>\n",
              "      <th>124</th>\n",
              "      <td>32.3</td>\n",
              "    </tr>\n",
              "    <tr>\n",
              "      <th>184</th>\n",
              "      <td>21.3</td>\n",
              "    </tr>\n",
              "    <tr>\n",
              "      <th>97</th>\n",
              "      <td>21.0</td>\n",
              "    </tr>\n",
              "    <tr>\n",
              "      <th>149</th>\n",
              "      <td>25.8</td>\n",
              "    </tr>\n",
              "  </tbody>\n",
              "</table>\n",
              "</div>"
            ],
            "text/plain": [
              "     Radio\n",
              "71    14.3\n",
              "124   32.3\n",
              "184   21.3\n",
              "97    21.0\n",
              "149   25.8"
            ]
          },
          "execution_count": 120,
          "metadata": {},
          "output_type": "execute_result"
        }
      ],
      "source": [
        "X_train.head()"
      ]
    },
    {
      "cell_type": "code",
      "execution_count": null,
      "id": "7887b323",
      "metadata": {
        "id": "7887b323",
        "outputId": "6bc7df60-368a-471f-ebfb-8e06f2907708"
      },
      "outputs": [
        {
          "data": {
            "text/html": [
              "<div>\n",
              "<style scoped>\n",
              "    .dataframe tbody tr th:only-of-type {\n",
              "        vertical-align: middle;\n",
              "    }\n",
              "\n",
              "    .dataframe tbody tr th {\n",
              "        vertical-align: top;\n",
              "    }\n",
              "\n",
              "    .dataframe thead th {\n",
              "        text-align: right;\n",
              "    }\n",
              "</style>\n",
              "<table border=\"1\" class=\"dataframe\">\n",
              "  <thead>\n",
              "    <tr style=\"text-align: right;\">\n",
              "      <th></th>\n",
              "      <th>Sales</th>\n",
              "    </tr>\n",
              "  </thead>\n",
              "  <tbody>\n",
              "    <tr>\n",
              "      <th>71</th>\n",
              "      <td>12.4</td>\n",
              "    </tr>\n",
              "    <tr>\n",
              "      <th>124</th>\n",
              "      <td>19.7</td>\n",
              "    </tr>\n",
              "    <tr>\n",
              "      <th>184</th>\n",
              "      <td>17.6</td>\n",
              "    </tr>\n",
              "    <tr>\n",
              "      <th>97</th>\n",
              "      <td>20.5</td>\n",
              "    </tr>\n",
              "    <tr>\n",
              "      <th>149</th>\n",
              "      <td>10.1</td>\n",
              "    </tr>\n",
              "  </tbody>\n",
              "</table>\n",
              "</div>"
            ],
            "text/plain": [
              "     Sales\n",
              "71    12.4\n",
              "124   19.7\n",
              "184   17.6\n",
              "97    20.5\n",
              "149   10.1"
            ]
          },
          "execution_count": 121,
          "metadata": {},
          "output_type": "execute_result"
        }
      ],
      "source": [
        "y_train.head()"
      ]
    },
    {
      "cell_type": "markdown",
      "id": "7914d1a4",
      "metadata": {
        "id": "7914d1a4"
      },
      "source": [
        "#### Build the model"
      ]
    },
    {
      "cell_type": "code",
      "execution_count": null,
      "id": "b68ad73d",
      "metadata": {
        "id": "b68ad73d",
        "outputId": "df538759-bc81-4b9f-ff08-beab3bc2d0f4"
      },
      "outputs": [
        {
          "name": "stdout",
          "output_type": "stream",
          "text": [
            "Coefficients:  [0.12735575]\n",
            "Intercept:  [12.56106382]\n"
          ]
        }
      ],
      "source": [
        "reg_radio = LinearRegression().fit(X_train, y_train)\n",
        "\n",
        "print ('Coefficients: ', reg_radio.coef_[0])\n",
        "print ('Intercept: ', reg_radio.intercept_)"
      ]
    },
    {
      "cell_type": "code",
      "execution_count": null,
      "id": "2aa39a4c",
      "metadata": {
        "id": "2aa39a4c",
        "outputId": "fe9b1352-6fce-4746-f2dd-a1610ca3f267"
      },
      "outputs": [
        {
          "data": {
            "image/png": "[encoded data removed]",
            "text/plain": [
              "<Figure size 576x432 with 1 Axes>"
            ]
          },
          "metadata": {
            "needs_background": "light"
          },
          "output_type": "display_data"
        }
      ],
      "source": [
        "reg_line = reg_radio.coef_[0][0]*X_train + reg_radio.intercept_[0]\n",
        "\n",
        "plt.figure(figsize=(8,6))\n",
        "plt.scatter(X_train, y_train, color='blue')\n",
        "plt.plot(X_train['Radio'], reg_line['Radio'], '-r')\n",
        "plt.xlabel(\"TV\")\n",
        "plt.ylabel(\"Sales\")\n",
        "plt.show()"
      ]
    },
    {
      "cell_type": "markdown",
      "id": "d92b7216",
      "metadata": {
        "id": "d92b7216"
      },
      "source": [
        "#### Prediction"
      ]
    },
    {
      "cell_type": "code",
      "execution_count": null,
      "id": "f8194079",
      "metadata": {
        "id": "f8194079",
        "outputId": "15efa7ce-2092-4cff-8663-af335e0b1d4c"
      },
      "outputs": [
        {
          "data": {
            "text/plain": [
              "array([[15.1718566 ],\n",
              "       [14.03839047],\n",
              "       [12.59927054],\n",
              "       [17.94821186],\n",
              "       [13.55443864]])"
            ]
          },
          "execution_count": 125,
          "metadata": {},
          "output_type": "execute_result"
        }
      ],
      "source": [
        "predictions = reg_radio.predict(X_test)\n",
        "predictions[:5]"
      ]
    },
    {
      "cell_type": "code",
      "execution_count": null,
      "id": "23856511",
      "metadata": {
        "id": "23856511",
        "outputId": "c50bbeaf-08ab-465c-b99a-e7329da52437"
      },
      "outputs": [
        {
          "data": {
            "text/html": [
              "<div>\n",
              "<style scoped>\n",
              "    .dataframe tbody tr th:only-of-type {\n",
              "        vertical-align: middle;\n",
              "    }\n",
              "\n",
              "    .dataframe tbody tr th {\n",
              "        vertical-align: top;\n",
              "    }\n",
              "\n",
              "    .dataframe thead th {\n",
              "        text-align: right;\n",
              "    }\n",
              "</style>\n",
              "<table border=\"1\" class=\"dataframe\">\n",
              "  <thead>\n",
              "    <tr style=\"text-align: right;\">\n",
              "      <th></th>\n",
              "      <th>Pred</th>\n",
              "      <th>Actual</th>\n",
              "    </tr>\n",
              "  </thead>\n",
              "  <tbody>\n",
              "    <tr>\n",
              "      <th>0</th>\n",
              "      <td>15.171857</td>\n",
              "      <td>11.3</td>\n",
              "    </tr>\n",
              "    <tr>\n",
              "      <th>1</th>\n",
              "      <td>14.038390</td>\n",
              "      <td>8.4</td>\n",
              "    </tr>\n",
              "    <tr>\n",
              "      <th>2</th>\n",
              "      <td>12.599271</td>\n",
              "      <td>12.0</td>\n",
              "    </tr>\n",
              "    <tr>\n",
              "      <th>3</th>\n",
              "      <td>17.948212</td>\n",
              "      <td>25.4</td>\n",
              "    </tr>\n",
              "    <tr>\n",
              "      <th>4</th>\n",
              "      <td>13.554439</td>\n",
              "      <td>16.7</td>\n",
              "    </tr>\n",
              "  </tbody>\n",
              "</table>\n",
              "</div>"
            ],
            "text/plain": [
              "        Pred  Actual\n",
              "0  15.171857    11.3\n",
              "1  14.038390     8.4\n",
              "2  12.599271    12.0\n",
              "3  17.948212    25.4\n",
              "4  13.554439    16.7"
            ]
          },
          "execution_count": 126,
          "metadata": {},
          "output_type": "execute_result"
        }
      ],
      "source": [
        "predict_df = pd.DataFrame(predictions, columns=['Pred'])\n",
        "predict_df['Actual'] = y_test.values\n",
        "predict_df.head()"
      ]
    },
    {
      "cell_type": "markdown",
      "id": "3380d7e6",
      "metadata": {
        "id": "3380d7e6"
      },
      "source": [
        "#### Evaluation"
      ]
    },
    {
      "cell_type": "code",
      "execution_count": null,
      "id": "cc61e465",
      "metadata": {
        "id": "cc61e465",
        "outputId": "dfecbbd0-3dca-4679-eee1-1aa45ded9dd7"
      },
      "outputs": [
        {
          "name": "stdout",
          "output_type": "stream",
          "text": [
            "RMSE: 5.5151\n"
          ]
        }
      ],
      "source": [
        "from sklearn.metrics import mean_squared_error\n",
        "rmse = mean_squared_error(predict_df['Actual'], predict_df['Pred'], squared=False)\n",
        "print(f\"RMSE: {round(rmse, 4)}\")"
      ]
    },
    {
      "cell_type": "code",
      "execution_count": null,
      "id": "b2ea37d6",
      "metadata": {
        "scrolled": false,
        "id": "b2ea37d6",
        "outputId": "d0faec4f-b1a3-4141-b6b5-87987e9d8d98"
      },
      "outputs": [
        {
          "data": {
            "text/html": [
              "<table class=\"simpletable\">\n",
              "<caption>OLS Regression Results</caption>\n",
              "<tr>\n",
              "  <th>Dep. Variable:</th>          <td>Sales</td>      <th>  R-squared:         </th> <td>   0.136</td>\n",
              "</tr>\n",
              "<tr>\n",
              "  <th>Model:</th>                   <td>OLS</td>       <th>  Adj. R-squared:    </th> <td>   0.130</td>\n",
              "</tr>\n",
              "<tr>\n",
              "  <th>Method:</th>             <td>Least Squares</td>  <th>  F-statistic:       </th> <td>   23.28</td>\n",
              "</tr>\n",
              "<tr>\n",
              "  <th>Date:</th>             <td>Sun, 06 Nov 2022</td> <th>  Prob (F-statistic):</th> <td>3.45e-06</td>\n",
              "</tr>\n",
              "<tr>\n",
              "  <th>Time:</th>                 <td>15:40:31</td>     <th>  Log-Likelihood:    </th> <td> -446.63</td>\n",
              "</tr>\n",
              "<tr>\n",
              "  <th>No. Observations:</th>      <td>   150</td>      <th>  AIC:               </th> <td>   897.3</td>\n",
              "</tr>\n",
              "<tr>\n",
              "  <th>Df Residuals:</th>          <td>   148</td>      <th>  BIC:               </th> <td>   903.3</td>\n",
              "</tr>\n",
              "<tr>\n",
              "  <th>Df Model:</th>              <td>     1</td>      <th>                     </th>     <td> </td>   \n",
              "</tr>\n",
              "<tr>\n",
              "  <th>Covariance Type:</th>      <td>nonrobust</td>    <th>                     </th>     <td> </td>   \n",
              "</tr>\n",
              "</table>\n",
              "<table class=\"simpletable\">\n",
              "<tr>\n",
              "    <td></td>       <th>coef</th>     <th>std err</th>      <th>t</th>      <th>P>|t|</th>  <th>[0.025</th>    <th>0.975]</th>  \n",
              "</tr>\n",
              "<tr>\n",
              "  <th>const</th> <td>   12.5611</td> <td>    0.727</td> <td>   17.267</td> <td> 0.000</td> <td>   11.124</td> <td>   13.999</td>\n",
              "</tr>\n",
              "<tr>\n",
              "  <th>Radio</th> <td>    0.1274</td> <td>    0.026</td> <td>    4.825</td> <td> 0.000</td> <td>    0.075</td> <td>    0.180</td>\n",
              "</tr>\n",
              "</table>\n",
              "<table class=\"simpletable\">\n",
              "<tr>\n",
              "  <th>Omnibus:</th>       <td>12.400</td> <th>  Durbin-Watson:     </th> <td>   2.081</td>\n",
              "</tr>\n",
              "<tr>\n",
              "  <th>Prob(Omnibus):</th> <td> 0.002</td> <th>  Jarque-Bera (JB):  </th> <td>   9.089</td>\n",
              "</tr>\n",
              "<tr>\n",
              "  <th>Skew:</th>          <td>-0.486</td> <th>  Prob(JB):          </th> <td>  0.0106</td>\n",
              "</tr>\n",
              "<tr>\n",
              "  <th>Kurtosis:</th>      <td> 2.286</td> <th>  Cond. No.          </th> <td>    51.4</td>\n",
              "</tr>\n",
              "</table><br/><br/>Notes:<br/>[1] Standard Errors assume that the covariance matrix of the errors is correctly specified."
            ],
            "text/plain": [
              "<class 'statsmodels.iolib.summary.Summary'>\n",
              "\"\"\"\n",
              "                            OLS Regression Results                            \n",
              "==============================================================================\n",
              "Dep. Variable:                  Sales   R-squared:                       0.136\n",
              "Model:                            OLS   Adj. R-squared:                  0.130\n",
              "Method:                 Least Squares   F-statistic:                     23.28\n",
              "Date:                Sun, 06 Nov 2022   Prob (F-statistic):           3.45e-06\n",
              "Time:                        15:40:31   Log-Likelihood:                -446.63\n",
              "No. Observations:                 150   AIC:                             897.3\n",
              "Df Residuals:                     148   BIC:                             903.3\n",
              "Df Model:                           1                                         \n",
              "Covariance Type:            nonrobust                                         \n",
              "==============================================================================\n",
              "                 coef    std err          t      P>|t|      [0.025      0.975]\n",
              "------------------------------------------------------------------------------\n",
              "const         12.5611      0.727     17.267      0.000      11.124      13.999\n",
              "Radio          0.1274      0.026      4.825      0.000       0.075       0.180\n",
              "==============================================================================\n",
              "Omnibus:                       12.400   Durbin-Watson:                   2.081\n",
              "Prob(Omnibus):                  0.002   Jarque-Bera (JB):                9.089\n",
              "Skew:                          -0.486   Prob(JB):                       0.0106\n",
              "Kurtosis:                       2.286   Cond. No.                         51.4\n",
              "==============================================================================\n",
              "\n",
              "Notes:\n",
              "[1] Standard Errors assume that the covariance matrix of the errors is correctly specified.\n",
              "\"\"\""
            ]
          },
          "execution_count": 128,
          "metadata": {},
          "output_type": "execute_result"
        }
      ],
      "source": [
        "import statsmodels.api as sm\n",
        "x_train = sm.add_constant(X_train)\n",
        "results = sm.OLS(y_train, x_train).fit()\n",
        "results.summary()"
      ]
    },
    {
      "cell_type": "markdown",
      "source": [
        "#### Conclusion"
      ],
      "metadata": {
        "id": "CCsHJjCL0gAq"
      },
      "id": "CCsHJjCL0gAq"
    },
    {
      "cell_type": "markdown",
      "source": [
        "Terlihat bahwa nilai R-squared dari model ini hanya bernilai 0,13. Hal ini mengindikasikan bahwa model tidak cukup baik dalam fitting data train. RMSE yang dihasilkan juga lebih besar daripada model dengan variabel TV yaitu 5,5."
      ],
      "metadata": {
        "id": "EWlNzSiQ0ia3"
      },
      "id": "EWlNzSiQ0ia3"
    },
    {
      "cell_type": "markdown",
      "id": "9e63dc85",
      "metadata": {
        "id": "9e63dc85"
      },
      "source": [
        "### Linear Regression - Newspaper"
      ]
    },
    {
      "cell_type": "markdown",
      "id": "0c6a8e19",
      "metadata": {
        "id": "0c6a8e19"
      },
      "source": [
        "#### Split data train/test"
      ]
    },
    {
      "cell_type": "code",
      "execution_count": null,
      "id": "afa37ae7",
      "metadata": {
        "id": "afa37ae7"
      },
      "outputs": [],
      "source": [
        "X = sales_df[['Newspaper']]\n",
        "y = sales_df[['Sales']]"
      ]
    },
    {
      "cell_type": "code",
      "execution_count": null,
      "id": "a2519a58",
      "metadata": {
        "id": "a2519a58",
        "outputId": "099bf3b5-95ef-4c5e-aa5b-6bc9bebfb0f2"
      },
      "outputs": [
        {
          "data": {
            "text/html": [
              "<div>\n",
              "<style scoped>\n",
              "    .dataframe tbody tr th:only-of-type {\n",
              "        vertical-align: middle;\n",
              "    }\n",
              "\n",
              "    .dataframe tbody tr th {\n",
              "        vertical-align: top;\n",
              "    }\n",
              "\n",
              "    .dataframe thead th {\n",
              "        text-align: right;\n",
              "    }\n",
              "</style>\n",
              "<table border=\"1\" class=\"dataframe\">\n",
              "  <thead>\n",
              "    <tr style=\"text-align: right;\">\n",
              "      <th></th>\n",
              "      <th>Newspaper</th>\n",
              "    </tr>\n",
              "  </thead>\n",
              "  <tbody>\n",
              "    <tr>\n",
              "      <th>0</th>\n",
              "      <td>69.2</td>\n",
              "    </tr>\n",
              "    <tr>\n",
              "      <th>1</th>\n",
              "      <td>45.1</td>\n",
              "    </tr>\n",
              "  </tbody>\n",
              "</table>\n",
              "</div>"
            ],
            "text/plain": [
              "   Newspaper\n",
              "0       69.2\n",
              "1       45.1"
            ]
          },
          "execution_count": 130,
          "metadata": {},
          "output_type": "execute_result"
        }
      ],
      "source": [
        "X.head(2)"
      ]
    },
    {
      "cell_type": "code",
      "execution_count": null,
      "id": "c119d3fe",
      "metadata": {
        "id": "c119d3fe",
        "outputId": "6fba53fa-86e5-45d0-a0fe-d58148c95d08"
      },
      "outputs": [
        {
          "data": {
            "text/html": [
              "<div>\n",
              "<style scoped>\n",
              "    .dataframe tbody tr th:only-of-type {\n",
              "        vertical-align: middle;\n",
              "    }\n",
              "\n",
              "    .dataframe tbody tr th {\n",
              "        vertical-align: top;\n",
              "    }\n",
              "\n",
              "    .dataframe thead th {\n",
              "        text-align: right;\n",
              "    }\n",
              "</style>\n",
              "<table border=\"1\" class=\"dataframe\">\n",
              "  <thead>\n",
              "    <tr style=\"text-align: right;\">\n",
              "      <th></th>\n",
              "      <th>Sales</th>\n",
              "    </tr>\n",
              "  </thead>\n",
              "  <tbody>\n",
              "    <tr>\n",
              "      <th>0</th>\n",
              "      <td>22.1</td>\n",
              "    </tr>\n",
              "    <tr>\n",
              "      <th>1</th>\n",
              "      <td>10.4</td>\n",
              "    </tr>\n",
              "  </tbody>\n",
              "</table>\n",
              "</div>"
            ],
            "text/plain": [
              "   Sales\n",
              "0   22.1\n",
              "1   10.4"
            ]
          },
          "execution_count": 131,
          "metadata": {},
          "output_type": "execute_result"
        }
      ],
      "source": [
        "y.head(2)"
      ]
    },
    {
      "cell_type": "code",
      "execution_count": null,
      "id": "aa15c81e",
      "metadata": {
        "id": "aa15c81e"
      },
      "outputs": [],
      "source": [
        "X_train, X_test, y_train, y_test = train_test_split(X, y, random_state=0)"
      ]
    },
    {
      "cell_type": "code",
      "execution_count": null,
      "id": "624a66a2",
      "metadata": {
        "scrolled": true,
        "id": "624a66a2",
        "outputId": "b5058183-80ae-4975-ef2e-b50ad5a1a417"
      },
      "outputs": [
        {
          "data": {
            "text/html": [
              "<div>\n",
              "<style scoped>\n",
              "    .dataframe tbody tr th:only-of-type {\n",
              "        vertical-align: middle;\n",
              "    }\n",
              "\n",
              "    .dataframe tbody tr th {\n",
              "        vertical-align: top;\n",
              "    }\n",
              "\n",
              "    .dataframe thead th {\n",
              "        text-align: right;\n",
              "    }\n",
              "</style>\n",
              "<table border=\"1\" class=\"dataframe\">\n",
              "  <thead>\n",
              "    <tr style=\"text-align: right;\">\n",
              "      <th></th>\n",
              "      <th>Newspaper</th>\n",
              "    </tr>\n",
              "  </thead>\n",
              "  <tbody>\n",
              "    <tr>\n",
              "      <th>71</th>\n",
              "      <td>31.7</td>\n",
              "    </tr>\n",
              "    <tr>\n",
              "      <th>124</th>\n",
              "      <td>74.2</td>\n",
              "    </tr>\n",
              "    <tr>\n",
              "      <th>184</th>\n",
              "      <td>30.0</td>\n",
              "    </tr>\n",
              "    <tr>\n",
              "      <th>97</th>\n",
              "      <td>22.0</td>\n",
              "    </tr>\n",
              "    <tr>\n",
              "      <th>149</th>\n",
              "      <td>20.6</td>\n",
              "    </tr>\n",
              "  </tbody>\n",
              "</table>\n",
              "</div>"
            ],
            "text/plain": [
              "     Newspaper\n",
              "71        31.7\n",
              "124       74.2\n",
              "184       30.0\n",
              "97        22.0\n",
              "149       20.6"
            ]
          },
          "execution_count": 133,
          "metadata": {},
          "output_type": "execute_result"
        }
      ],
      "source": [
        "X_train.head()"
      ]
    },
    {
      "cell_type": "code",
      "execution_count": null,
      "id": "a8c27c2a",
      "metadata": {
        "id": "a8c27c2a",
        "outputId": "e0f3ae46-8268-4685-df9e-f4f5d0258017"
      },
      "outputs": [
        {
          "data": {
            "text/html": [
              "<div>\n",
              "<style scoped>\n",
              "    .dataframe tbody tr th:only-of-type {\n",
              "        vertical-align: middle;\n",
              "    }\n",
              "\n",
              "    .dataframe tbody tr th {\n",
              "        vertical-align: top;\n",
              "    }\n",
              "\n",
              "    .dataframe thead th {\n",
              "        text-align: right;\n",
              "    }\n",
              "</style>\n",
              "<table border=\"1\" class=\"dataframe\">\n",
              "  <thead>\n",
              "    <tr style=\"text-align: right;\">\n",
              "      <th></th>\n",
              "      <th>Sales</th>\n",
              "    </tr>\n",
              "  </thead>\n",
              "  <tbody>\n",
              "    <tr>\n",
              "      <th>71</th>\n",
              "      <td>12.4</td>\n",
              "    </tr>\n",
              "    <tr>\n",
              "      <th>124</th>\n",
              "      <td>19.7</td>\n",
              "    </tr>\n",
              "    <tr>\n",
              "      <th>184</th>\n",
              "      <td>17.6</td>\n",
              "    </tr>\n",
              "    <tr>\n",
              "      <th>97</th>\n",
              "      <td>20.5</td>\n",
              "    </tr>\n",
              "    <tr>\n",
              "      <th>149</th>\n",
              "      <td>10.1</td>\n",
              "    </tr>\n",
              "  </tbody>\n",
              "</table>\n",
              "</div>"
            ],
            "text/plain": [
              "     Sales\n",
              "71    12.4\n",
              "124   19.7\n",
              "184   17.6\n",
              "97    20.5\n",
              "149   10.1"
            ]
          },
          "execution_count": 134,
          "metadata": {},
          "output_type": "execute_result"
        }
      ],
      "source": [
        "y_train.head()"
      ]
    },
    {
      "cell_type": "markdown",
      "id": "c2bf3381",
      "metadata": {
        "id": "c2bf3381"
      },
      "source": [
        "#### Build the model"
      ]
    },
    {
      "cell_type": "code",
      "execution_count": null,
      "id": "0f340501",
      "metadata": {
        "id": "0f340501",
        "outputId": "91dbe7eb-aa8c-4111-bd74-0fe46270aec0"
      },
      "outputs": [
        {
          "name": "stdout",
          "output_type": "stream",
          "text": [
            "Coefficients:  [0.05490813]\n",
            "Intercept:  [13.88976447]\n"
          ]
        }
      ],
      "source": [
        "reg_news = LinearRegression().fit(X_train, y_train)\n",
        "\n",
        "print ('Coefficients: ', reg_news.coef_[0])\n",
        "print ('Intercept: ', reg_news.intercept_)"
      ]
    },
    {
      "cell_type": "code",
      "execution_count": null,
      "id": "27640051",
      "metadata": {
        "id": "27640051",
        "outputId": "e7575a10-05b2-4837-af63-4a86227d71d0"
      },
      "outputs": [
        {
          "data": {
            "image/png": "[encoded data removed]",
            "text/plain": [
              "<Figure size 576x432 with 1 Axes>"
            ]
          },
          "metadata": {
            "needs_background": "light"
          },
          "output_type": "display_data"
        }
      ],
      "source": [
        "reg_line = reg_news.coef_[0][0]*X_train + reg_news.intercept_[0]\n",
        "\n",
        "plt.figure(figsize=(8,6))\n",
        "plt.scatter(X_train, y_train, color='blue')\n",
        "plt.plot(X_train['Newspaper'], reg_line['Newspaper'], '-r')\n",
        "plt.xlabel(\"TV\")\n",
        "plt.ylabel(\"Sales\")\n",
        "plt.show()"
      ]
    },
    {
      "cell_type": "markdown",
      "id": "11fb2423",
      "metadata": {
        "id": "11fb2423"
      },
      "source": [
        "#### Prediction"
      ]
    },
    {
      "cell_type": "code",
      "execution_count": null,
      "id": "8d3a06a5",
      "metadata": {
        "id": "8d3a06a5",
        "outputId": "2dbaaaff-1c0c-4b8e-f500-8f34c60ecc03"
      },
      "outputs": [
        {
          "data": {
            "text/plain": [
              "array([[14.89458316],\n",
              "       [14.90007397],\n",
              "       [15.16363297],\n",
              "       [16.70106047],\n",
              "       [15.82253047]])"
            ]
          },
          "execution_count": 137,
          "metadata": {},
          "output_type": "execute_result"
        }
      ],
      "source": [
        "predictions = reg_news.predict(X_test)\n",
        "predictions[:5]"
      ]
    },
    {
      "cell_type": "code",
      "execution_count": null,
      "id": "d2e4113b",
      "metadata": {
        "id": "d2e4113b",
        "outputId": "fe9ecda9-fcb0-460d-d758-6d4d023470c8"
      },
      "outputs": [
        {
          "data": {
            "text/html": [
              "<div>\n",
              "<style scoped>\n",
              "    .dataframe tbody tr th:only-of-type {\n",
              "        vertical-align: middle;\n",
              "    }\n",
              "\n",
              "    .dataframe tbody tr th {\n",
              "        vertical-align: top;\n",
              "    }\n",
              "\n",
              "    .dataframe thead th {\n",
              "        text-align: right;\n",
              "    }\n",
              "</style>\n",
              "<table border=\"1\" class=\"dataframe\">\n",
              "  <thead>\n",
              "    <tr style=\"text-align: right;\">\n",
              "      <th></th>\n",
              "      <th>Pred</th>\n",
              "      <th>Actual</th>\n",
              "    </tr>\n",
              "  </thead>\n",
              "  <tbody>\n",
              "    <tr>\n",
              "      <th>0</th>\n",
              "      <td>14.894583</td>\n",
              "      <td>11.3</td>\n",
              "    </tr>\n",
              "    <tr>\n",
              "      <th>1</th>\n",
              "      <td>14.900074</td>\n",
              "      <td>8.4</td>\n",
              "    </tr>\n",
              "    <tr>\n",
              "      <th>2</th>\n",
              "      <td>15.163633</td>\n",
              "      <td>12.0</td>\n",
              "    </tr>\n",
              "    <tr>\n",
              "      <th>3</th>\n",
              "      <td>16.701060</td>\n",
              "      <td>25.4</td>\n",
              "    </tr>\n",
              "    <tr>\n",
              "      <th>4</th>\n",
              "      <td>15.822530</td>\n",
              "      <td>16.7</td>\n",
              "    </tr>\n",
              "  </tbody>\n",
              "</table>\n",
              "</div>"
            ],
            "text/plain": [
              "        Pred  Actual\n",
              "0  14.894583    11.3\n",
              "1  14.900074     8.4\n",
              "2  15.163633    12.0\n",
              "3  16.701060    25.4\n",
              "4  15.822530    16.7"
            ]
          },
          "execution_count": 138,
          "metadata": {},
          "output_type": "execute_result"
        }
      ],
      "source": [
        "predict_df = pd.DataFrame(predictions, columns=['Pred'])\n",
        "predict_df['Actual'] = y_test.values\n",
        "predict_df.head()"
      ]
    },
    {
      "cell_type": "markdown",
      "id": "98bb3f03",
      "metadata": {
        "id": "98bb3f03"
      },
      "source": [
        "#### Evaluation"
      ]
    },
    {
      "cell_type": "code",
      "execution_count": null,
      "id": "d9623451",
      "metadata": {
        "id": "d9623451",
        "outputId": "3e1c3c06-de59-4938-b7cc-bc732713daec"
      },
      "outputs": [
        {
          "name": "stdout",
          "output_type": "stream",
          "text": [
            "RMSE: 5.915\n"
          ]
        }
      ],
      "source": [
        "from sklearn.metrics import mean_squared_error\n",
        "rmse = mean_squared_error(predict_df['Actual'], predict_df['Pred'], squared=False)\n",
        "print(f\"RMSE: {round(rmse, 4)}\")"
      ]
    },
    {
      "cell_type": "code",
      "execution_count": null,
      "id": "b2ec243e",
      "metadata": {
        "scrolled": false,
        "id": "b2ec243e",
        "outputId": "72c56087-70b1-4f51-e62c-409d8466527c"
      },
      "outputs": [
        {
          "data": {
            "text/html": [
              "<table class=\"simpletable\">\n",
              "<caption>OLS Regression Results</caption>\n",
              "<tr>\n",
              "  <th>Dep. Variable:</th>          <td>Sales</td>      <th>  R-squared:         </th> <td>   0.048</td>\n",
              "</tr>\n",
              "<tr>\n",
              "  <th>Model:</th>                   <td>OLS</td>       <th>  Adj. R-squared:    </th> <td>   0.042</td>\n",
              "</tr>\n",
              "<tr>\n",
              "  <th>Method:</th>             <td>Least Squares</td>  <th>  F-statistic:       </th> <td>   7.456</td>\n",
              "</tr>\n",
              "<tr>\n",
              "  <th>Date:</th>             <td>Sun, 06 Nov 2022</td> <th>  Prob (F-statistic):</th>  <td>0.00709</td>\n",
              "</tr>\n",
              "<tr>\n",
              "  <th>Time:</th>                 <td>15:43:15</td>     <th>  Log-Likelihood:    </th> <td> -453.90</td>\n",
              "</tr>\n",
              "<tr>\n",
              "  <th>No. Observations:</th>      <td>   150</td>      <th>  AIC:               </th> <td>   911.8</td>\n",
              "</tr>\n",
              "<tr>\n",
              "  <th>Df Residuals:</th>          <td>   148</td>      <th>  BIC:               </th> <td>   917.8</td>\n",
              "</tr>\n",
              "<tr>\n",
              "  <th>Df Model:</th>              <td>     1</td>      <th>                     </th>     <td> </td>   \n",
              "</tr>\n",
              "<tr>\n",
              "  <th>Covariance Type:</th>      <td>nonrobust</td>    <th>                     </th>     <td> </td>   \n",
              "</tr>\n",
              "</table>\n",
              "<table class=\"simpletable\">\n",
              "<tr>\n",
              "      <td></td>         <th>coef</th>     <th>std err</th>      <th>t</th>      <th>P>|t|</th>  <th>[0.025</th>    <th>0.975]</th>  \n",
              "</tr>\n",
              "<tr>\n",
              "  <th>const</th>     <td>   13.8898</td> <td>    0.725</td> <td>   19.161</td> <td> 0.000</td> <td>   12.457</td> <td>   15.322</td>\n",
              "</tr>\n",
              "<tr>\n",
              "  <th>Newspaper</th> <td>    0.0549</td> <td>    0.020</td> <td>    2.730</td> <td> 0.007</td> <td>    0.015</td> <td>    0.095</td>\n",
              "</tr>\n",
              "</table>\n",
              "<table class=\"simpletable\">\n",
              "<tr>\n",
              "  <th>Omnibus:</th>       <td> 5.235</td> <th>  Durbin-Watson:     </th> <td>   2.211</td>\n",
              "</tr>\n",
              "<tr>\n",
              "  <th>Prob(Omnibus):</th> <td> 0.073</td> <th>  Jarque-Bera (JB):  </th> <td>   3.142</td>\n",
              "</tr>\n",
              "<tr>\n",
              "  <th>Skew:</th>          <td>-0.147</td> <th>  Prob(JB):          </th> <td>   0.208</td>\n",
              "</tr>\n",
              "<tr>\n",
              "  <th>Kurtosis:</th>      <td> 2.355</td> <th>  Cond. No.          </th> <td>    63.8</td>\n",
              "</tr>\n",
              "</table><br/><br/>Notes:<br/>[1] Standard Errors assume that the covariance matrix of the errors is correctly specified."
            ],
            "text/plain": [
              "<class 'statsmodels.iolib.summary.Summary'>\n",
              "\"\"\"\n",
              "                            OLS Regression Results                            \n",
              "==============================================================================\n",
              "Dep. Variable:                  Sales   R-squared:                       0.048\n",
              "Model:                            OLS   Adj. R-squared:                  0.042\n",
              "Method:                 Least Squares   F-statistic:                     7.456\n",
              "Date:                Sun, 06 Nov 2022   Prob (F-statistic):            0.00709\n",
              "Time:                        15:43:15   Log-Likelihood:                -453.90\n",
              "No. Observations:                 150   AIC:                             911.8\n",
              "Df Residuals:                     148   BIC:                             917.8\n",
              "Df Model:                           1                                         \n",
              "Covariance Type:            nonrobust                                         \n",
              "==============================================================================\n",
              "                 coef    std err          t      P>|t|      [0.025      0.975]\n",
              "------------------------------------------------------------------------------\n",
              "const         13.8898      0.725     19.161      0.000      12.457      15.322\n",
              "Newspaper      0.0549      0.020      2.730      0.007       0.015       0.095\n",
              "==============================================================================\n",
              "Omnibus:                        5.235   Durbin-Watson:                   2.211\n",
              "Prob(Omnibus):                  0.073   Jarque-Bera (JB):                3.142\n",
              "Skew:                          -0.147   Prob(JB):                        0.208\n",
              "Kurtosis:                       2.355   Cond. No.                         63.8\n",
              "==============================================================================\n",
              "\n",
              "Notes:\n",
              "[1] Standard Errors assume that the covariance matrix of the errors is correctly specified.\n",
              "\"\"\""
            ]
          },
          "execution_count": 140,
          "metadata": {},
          "output_type": "execute_result"
        }
      ],
      "source": [
        "import statsmodels.api as sm\n",
        "x_train = sm.add_constant(X_train)\n",
        "results = sm.OLS(y_train, x_train).fit()\n",
        "results.summary()"
      ]
    },
    {
      "cell_type": "markdown",
      "source": [
        "#### Conclusion"
      ],
      "metadata": {
        "id": "IDWPK5B916YU"
      },
      "id": "IDWPK5B916YU"
    },
    {
      "cell_type": "markdown",
      "source": [
        "Model ini memiliki kinerja paling buruk di antara tiga model yang diuji. Model ini memiliki RMSE 5,91 dan R-squared kurang dari 0,1. Ini bisa diartikan bahwa variabel Newspaper tidak mampu menjelaskan variasi pada label Sales sehingga model ini tidak mampu 'fit' dengan baik terhadap data train."
      ],
      "metadata": {
        "id": "UkIJ9Fv218DU"
      },
      "id": "UkIJ9Fv218DU"
    },
    {
      "cell_type": "markdown",
      "id": "a1954903",
      "metadata": {
        "id": "a1954903"
      },
      "source": [
        "### Linear Regression - All"
      ]
    },
    {
      "cell_type": "markdown",
      "id": "58ad63f5",
      "metadata": {
        "id": "58ad63f5"
      },
      "source": [
        "#### Split data train/test"
      ]
    },
    {
      "cell_type": "code",
      "execution_count": null,
      "id": "dbd36e9d",
      "metadata": {
        "id": "dbd36e9d"
      },
      "outputs": [],
      "source": [
        "features = ['TV', 'Radio', 'Newspaper']\n",
        "X = sales_df[features]\n",
        "y = sales_df[['Sales']]"
      ]
    },
    {
      "cell_type": "code",
      "execution_count": null,
      "id": "bacaa885",
      "metadata": {
        "id": "bacaa885",
        "outputId": "5b9e4741-fc73-4680-8f32-5ffae1f207f0"
      },
      "outputs": [
        {
          "data": {
            "text/html": [
              "<div>\n",
              "<style scoped>\n",
              "    .dataframe tbody tr th:only-of-type {\n",
              "        vertical-align: middle;\n",
              "    }\n",
              "\n",
              "    .dataframe tbody tr th {\n",
              "        vertical-align: top;\n",
              "    }\n",
              "\n",
              "    .dataframe thead th {\n",
              "        text-align: right;\n",
              "    }\n",
              "</style>\n",
              "<table border=\"1\" class=\"dataframe\">\n",
              "  <thead>\n",
              "    <tr style=\"text-align: right;\">\n",
              "      <th></th>\n",
              "      <th>TV</th>\n",
              "      <th>Radio</th>\n",
              "      <th>Newspaper</th>\n",
              "    </tr>\n",
              "  </thead>\n",
              "  <tbody>\n",
              "    <tr>\n",
              "      <th>0</th>\n",
              "      <td>230.1</td>\n",
              "      <td>37.8</td>\n",
              "      <td>69.2</td>\n",
              "    </tr>\n",
              "    <tr>\n",
              "      <th>1</th>\n",
              "      <td>44.5</td>\n",
              "      <td>39.3</td>\n",
              "      <td>45.1</td>\n",
              "    </tr>\n",
              "  </tbody>\n",
              "</table>\n",
              "</div>"
            ],
            "text/plain": [
              "      TV  Radio  Newspaper\n",
              "0  230.1   37.8       69.2\n",
              "1   44.5   39.3       45.1"
            ]
          },
          "execution_count": 143,
          "metadata": {},
          "output_type": "execute_result"
        }
      ],
      "source": [
        "X.head(2)"
      ]
    },
    {
      "cell_type": "code",
      "execution_count": null,
      "id": "0892be4b",
      "metadata": {
        "id": "0892be4b",
        "outputId": "987ef003-1735-41ee-81d3-f40a37024938"
      },
      "outputs": [
        {
          "data": {
            "text/html": [
              "<div>\n",
              "<style scoped>\n",
              "    .dataframe tbody tr th:only-of-type {\n",
              "        vertical-align: middle;\n",
              "    }\n",
              "\n",
              "    .dataframe tbody tr th {\n",
              "        vertical-align: top;\n",
              "    }\n",
              "\n",
              "    .dataframe thead th {\n",
              "        text-align: right;\n",
              "    }\n",
              "</style>\n",
              "<table border=\"1\" class=\"dataframe\">\n",
              "  <thead>\n",
              "    <tr style=\"text-align: right;\">\n",
              "      <th></th>\n",
              "      <th>Sales</th>\n",
              "    </tr>\n",
              "  </thead>\n",
              "  <tbody>\n",
              "    <tr>\n",
              "      <th>0</th>\n",
              "      <td>22.1</td>\n",
              "    </tr>\n",
              "    <tr>\n",
              "      <th>1</th>\n",
              "      <td>10.4</td>\n",
              "    </tr>\n",
              "  </tbody>\n",
              "</table>\n",
              "</div>"
            ],
            "text/plain": [
              "   Sales\n",
              "0   22.1\n",
              "1   10.4"
            ]
          },
          "execution_count": 144,
          "metadata": {},
          "output_type": "execute_result"
        }
      ],
      "source": [
        "y.head(2)"
      ]
    },
    {
      "cell_type": "code",
      "execution_count": null,
      "id": "6869f9b5",
      "metadata": {
        "id": "6869f9b5"
      },
      "outputs": [],
      "source": [
        "X_train, X_test, y_train, y_test = train_test_split(X, y, random_state=0)"
      ]
    },
    {
      "cell_type": "code",
      "execution_count": null,
      "id": "b48a9050",
      "metadata": {
        "scrolled": true,
        "id": "b48a9050",
        "outputId": "1083fd51-8244-4d55-bd99-731528e2e762"
      },
      "outputs": [
        {
          "data": {
            "text/html": [
              "<div>\n",
              "<style scoped>\n",
              "    .dataframe tbody tr th:only-of-type {\n",
              "        vertical-align: middle;\n",
              "    }\n",
              "\n",
              "    .dataframe tbody tr th {\n",
              "        vertical-align: top;\n",
              "    }\n",
              "\n",
              "    .dataframe thead th {\n",
              "        text-align: right;\n",
              "    }\n",
              "</style>\n",
              "<table border=\"1\" class=\"dataframe\">\n",
              "  <thead>\n",
              "    <tr style=\"text-align: right;\">\n",
              "      <th></th>\n",
              "      <th>TV</th>\n",
              "      <th>Radio</th>\n",
              "      <th>Newspaper</th>\n",
              "    </tr>\n",
              "  </thead>\n",
              "  <tbody>\n",
              "    <tr>\n",
              "      <th>71</th>\n",
              "      <td>109.8</td>\n",
              "      <td>14.3</td>\n",
              "      <td>31.7</td>\n",
              "    </tr>\n",
              "    <tr>\n",
              "      <th>124</th>\n",
              "      <td>229.5</td>\n",
              "      <td>32.3</td>\n",
              "      <td>74.2</td>\n",
              "    </tr>\n",
              "    <tr>\n",
              "      <th>184</th>\n",
              "      <td>253.8</td>\n",
              "      <td>21.3</td>\n",
              "      <td>30.0</td>\n",
              "    </tr>\n",
              "    <tr>\n",
              "      <th>97</th>\n",
              "      <td>184.9</td>\n",
              "      <td>21.0</td>\n",
              "      <td>22.0</td>\n",
              "    </tr>\n",
              "    <tr>\n",
              "      <th>149</th>\n",
              "      <td>44.7</td>\n",
              "      <td>25.8</td>\n",
              "      <td>20.6</td>\n",
              "    </tr>\n",
              "  </tbody>\n",
              "</table>\n",
              "</div>"
            ],
            "text/plain": [
              "        TV  Radio  Newspaper\n",
              "71   109.8   14.3       31.7\n",
              "124  229.5   32.3       74.2\n",
              "184  253.8   21.3       30.0\n",
              "97   184.9   21.0       22.0\n",
              "149   44.7   25.8       20.6"
            ]
          },
          "execution_count": 146,
          "metadata": {},
          "output_type": "execute_result"
        }
      ],
      "source": [
        "X_train.head()"
      ]
    },
    {
      "cell_type": "code",
      "execution_count": null,
      "id": "0509a965",
      "metadata": {
        "id": "0509a965",
        "outputId": "675da359-5e18-48bb-b22a-4f5c40ebbb8b"
      },
      "outputs": [
        {
          "data": {
            "text/html": [
              "<div>\n",
              "<style scoped>\n",
              "    .dataframe tbody tr th:only-of-type {\n",
              "        vertical-align: middle;\n",
              "    }\n",
              "\n",
              "    .dataframe tbody tr th {\n",
              "        vertical-align: top;\n",
              "    }\n",
              "\n",
              "    .dataframe thead th {\n",
              "        text-align: right;\n",
              "    }\n",
              "</style>\n",
              "<table border=\"1\" class=\"dataframe\">\n",
              "  <thead>\n",
              "    <tr style=\"text-align: right;\">\n",
              "      <th></th>\n",
              "      <th>Sales</th>\n",
              "    </tr>\n",
              "  </thead>\n",
              "  <tbody>\n",
              "    <tr>\n",
              "      <th>71</th>\n",
              "      <td>12.4</td>\n",
              "    </tr>\n",
              "    <tr>\n",
              "      <th>124</th>\n",
              "      <td>19.7</td>\n",
              "    </tr>\n",
              "    <tr>\n",
              "      <th>184</th>\n",
              "      <td>17.6</td>\n",
              "    </tr>\n",
              "    <tr>\n",
              "      <th>97</th>\n",
              "      <td>20.5</td>\n",
              "    </tr>\n",
              "    <tr>\n",
              "      <th>149</th>\n",
              "      <td>10.1</td>\n",
              "    </tr>\n",
              "  </tbody>\n",
              "</table>\n",
              "</div>"
            ],
            "text/plain": [
              "     Sales\n",
              "71    12.4\n",
              "124   19.7\n",
              "184   17.6\n",
              "97    20.5\n",
              "149   10.1"
            ]
          },
          "execution_count": 147,
          "metadata": {},
          "output_type": "execute_result"
        }
      ],
      "source": [
        "y_train.head()"
      ]
    },
    {
      "cell_type": "markdown",
      "id": "02de2119",
      "metadata": {
        "id": "02de2119"
      },
      "source": [
        "#### Build the model"
      ]
    },
    {
      "cell_type": "code",
      "execution_count": null,
      "id": "f035ed07",
      "metadata": {
        "id": "f035ed07",
        "outputId": "acb8c6d0-c22d-43fb-dd2d-6aaf4eea08ca"
      },
      "outputs": [
        {
          "name": "stdout",
          "output_type": "stream",
          "text": [
            "Coefficients:  [ 5.34530806e-02  1.10417563e-01 -4.37125135e-05]\n",
            "Intercept:  [4.72863089]\n"
          ]
        }
      ],
      "source": [
        "reg_all = LinearRegression().fit(X_train, y_train)\n",
        "\n",
        "print ('Coefficients: ', reg_all.coef_[0])\n",
        "print ('Intercept: ', reg_all.intercept_)"
      ]
    },
    {
      "cell_type": "markdown",
      "id": "682c9216",
      "metadata": {
        "id": "682c9216"
      },
      "source": [
        "#### Prediction"
      ]
    },
    {
      "cell_type": "code",
      "execution_count": null,
      "id": "135e37e3",
      "metadata": {
        "id": "135e37e3",
        "outputId": "170dd57f-c44d-4039-8dce-5fe0b0417270"
      },
      "outputs": [
        {
          "data": {
            "text/plain": [
              "array([[10.69034418],\n",
              "       [ 8.68132435],\n",
              "       [ 9.59290052],\n",
              "       [24.88241319],\n",
              "       [14.68606352]])"
            ]
          },
          "execution_count": 149,
          "metadata": {},
          "output_type": "execute_result"
        }
      ],
      "source": [
        "predictions = reg_all.predict(X_test)\n",
        "predictions[:5]"
      ]
    },
    {
      "cell_type": "code",
      "execution_count": null,
      "id": "fc34d0e7",
      "metadata": {
        "id": "fc34d0e7",
        "outputId": "030ee735-4c71-4e4d-d4bf-70d750042bbd"
      },
      "outputs": [
        {
          "data": {
            "text/html": [
              "<div>\n",
              "<style scoped>\n",
              "    .dataframe tbody tr th:only-of-type {\n",
              "        vertical-align: middle;\n",
              "    }\n",
              "\n",
              "    .dataframe tbody tr th {\n",
              "        vertical-align: top;\n",
              "    }\n",
              "\n",
              "    .dataframe thead th {\n",
              "        text-align: right;\n",
              "    }\n",
              "</style>\n",
              "<table border=\"1\" class=\"dataframe\">\n",
              "  <thead>\n",
              "    <tr style=\"text-align: right;\">\n",
              "      <th></th>\n",
              "      <th>Pred</th>\n",
              "      <th>Actual</th>\n",
              "    </tr>\n",
              "  </thead>\n",
              "  <tbody>\n",
              "    <tr>\n",
              "      <th>0</th>\n",
              "      <td>10.690344</td>\n",
              "      <td>11.3</td>\n",
              "    </tr>\n",
              "    <tr>\n",
              "      <th>1</th>\n",
              "      <td>8.681324</td>\n",
              "      <td>8.4</td>\n",
              "    </tr>\n",
              "    <tr>\n",
              "      <th>2</th>\n",
              "      <td>9.592901</td>\n",
              "      <td>12.0</td>\n",
              "    </tr>\n",
              "    <tr>\n",
              "      <th>3</th>\n",
              "      <td>24.882413</td>\n",
              "      <td>25.4</td>\n",
              "    </tr>\n",
              "    <tr>\n",
              "      <th>4</th>\n",
              "      <td>14.686064</td>\n",
              "      <td>16.7</td>\n",
              "    </tr>\n",
              "  </tbody>\n",
              "</table>\n",
              "</div>"
            ],
            "text/plain": [
              "        Pred  Actual\n",
              "0  10.690344    11.3\n",
              "1   8.681324     8.4\n",
              "2   9.592901    12.0\n",
              "3  24.882413    25.4\n",
              "4  14.686064    16.7"
            ]
          },
          "execution_count": 150,
          "metadata": {},
          "output_type": "execute_result"
        }
      ],
      "source": [
        "predict_df = pd.DataFrame(predictions, columns=['Pred'])\n",
        "predict_df['Actual'] = y_test.values\n",
        "predict_df.head()"
      ]
    },
    {
      "cell_type": "markdown",
      "id": "fed177d4",
      "metadata": {
        "id": "fed177d4"
      },
      "source": [
        "#### Evaluation"
      ]
    },
    {
      "cell_type": "code",
      "execution_count": null,
      "id": "6d148ba8",
      "metadata": {
        "id": "6d148ba8",
        "outputId": "0dde38ed-d74a-4989-a5d3-4502a5927d31"
      },
      "outputs": [
        {
          "name": "stdout",
          "output_type": "stream",
          "text": [
            "RMSE: 1.9896\n"
          ]
        }
      ],
      "source": [
        "from sklearn.metrics import mean_squared_error\n",
        "rmse = mean_squared_error(predict_df['Actual'], predict_df['Pred'], squared=False)\n",
        "print(f\"RMSE: {round(rmse, 4)}\")"
      ]
    },
    {
      "cell_type": "code",
      "execution_count": null,
      "id": "240aaa70",
      "metadata": {
        "scrolled": false,
        "id": "240aaa70",
        "outputId": "7d078773-26d9-448e-98af-9f2ddbfb4fe5"
      },
      "outputs": [
        {
          "data": {
            "text/html": [
              "<table class=\"simpletable\">\n",
              "<caption>OLS Regression Results</caption>\n",
              "<tr>\n",
              "  <th>Dep. Variable:</th>          <td>Sales</td>      <th>  R-squared:         </th> <td>   0.912</td>\n",
              "</tr>\n",
              "<tr>\n",
              "  <th>Model:</th>                   <td>OLS</td>       <th>  Adj. R-squared:    </th> <td>   0.910</td>\n",
              "</tr>\n",
              "<tr>\n",
              "  <th>Method:</th>             <td>Least Squares</td>  <th>  F-statistic:       </th> <td>   503.9</td>\n",
              "</tr>\n",
              "<tr>\n",
              "  <th>Date:</th>             <td>Sun, 06 Nov 2022</td> <th>  Prob (F-statistic):</th> <td>8.69e-77</td>\n",
              "</tr>\n",
              "<tr>\n",
              "  <th>Time:</th>                 <td>15:48:38</td>     <th>  Log-Likelihood:    </th> <td> -275.36</td>\n",
              "</tr>\n",
              "<tr>\n",
              "  <th>No. Observations:</th>      <td>   150</td>      <th>  AIC:               </th> <td>   558.7</td>\n",
              "</tr>\n",
              "<tr>\n",
              "  <th>Df Residuals:</th>          <td>   146</td>      <th>  BIC:               </th> <td>   570.8</td>\n",
              "</tr>\n",
              "<tr>\n",
              "  <th>Df Model:</th>              <td>     3</td>      <th>                     </th>     <td> </td>   \n",
              "</tr>\n",
              "<tr>\n",
              "  <th>Covariance Type:</th>      <td>nonrobust</td>    <th>                     </th>     <td> </td>   \n",
              "</tr>\n",
              "</table>\n",
              "<table class=\"simpletable\">\n",
              "<tr>\n",
              "      <td></td>         <th>coef</th>     <th>std err</th>      <th>t</th>      <th>P>|t|</th>  <th>[0.025</th>    <th>0.975]</th>  \n",
              "</tr>\n",
              "<tr>\n",
              "  <th>const</th>     <td>    4.7286</td> <td>    0.336</td> <td>   14.072</td> <td> 0.000</td> <td>    4.065</td> <td>    5.393</td>\n",
              "</tr>\n",
              "<tr>\n",
              "  <th>TV</th>        <td>    0.0535</td> <td>    0.002</td> <td>   35.563</td> <td> 0.000</td> <td>    0.050</td> <td>    0.056</td>\n",
              "</tr>\n",
              "<tr>\n",
              "  <th>Radio</th>     <td>    0.1104</td> <td>    0.009</td> <td>   12.423</td> <td> 0.000</td> <td>    0.093</td> <td>    0.128</td>\n",
              "</tr>\n",
              "<tr>\n",
              "  <th>Newspaper</th> <td>-4.371e-05</td> <td>    0.007</td> <td>   -0.007</td> <td> 0.995</td> <td>   -0.013</td> <td>    0.013</td>\n",
              "</tr>\n",
              "</table>\n",
              "<table class=\"simpletable\">\n",
              "<tr>\n",
              "  <th>Omnibus:</th>       <td> 0.937</td> <th>  Durbin-Watson:     </th> <td>   2.270</td>\n",
              "</tr>\n",
              "<tr>\n",
              "  <th>Prob(Omnibus):</th> <td> 0.626</td> <th>  Jarque-Bera (JB):  </th> <td>   1.006</td>\n",
              "</tr>\n",
              "<tr>\n",
              "  <th>Skew:</th>          <td> 0.182</td> <th>  Prob(JB):          </th> <td>   0.605</td>\n",
              "</tr>\n",
              "<tr>\n",
              "  <th>Kurtosis:</th>      <td> 2.833</td> <th>  Cond. No.          </th> <td>    479.</td>\n",
              "</tr>\n",
              "</table><br/><br/>Notes:<br/>[1] Standard Errors assume that the covariance matrix of the errors is correctly specified."
            ],
            "text/plain": [
              "<class 'statsmodels.iolib.summary.Summary'>\n",
              "\"\"\"\n",
              "                            OLS Regression Results                            \n",
              "==============================================================================\n",
              "Dep. Variable:                  Sales   R-squared:                       0.912\n",
              "Model:                            OLS   Adj. R-squared:                  0.910\n",
              "Method:                 Least Squares   F-statistic:                     503.9\n",
              "Date:                Sun, 06 Nov 2022   Prob (F-statistic):           8.69e-77\n",
              "Time:                        15:48:38   Log-Likelihood:                -275.36\n",
              "No. Observations:                 150   AIC:                             558.7\n",
              "Df Residuals:                     146   BIC:                             570.8\n",
              "Df Model:                           3                                         \n",
              "Covariance Type:            nonrobust                                         \n",
              "==============================================================================\n",
              "                 coef    std err          t      P>|t|      [0.025      0.975]\n",
              "------------------------------------------------------------------------------\n",
              "const          4.7286      0.336     14.072      0.000       4.065       5.393\n",
              "TV             0.0535      0.002     35.563      0.000       0.050       0.056\n",
              "Radio          0.1104      0.009     12.423      0.000       0.093       0.128\n",
              "Newspaper  -4.371e-05      0.007     -0.007      0.995      -0.013       0.013\n",
              "==============================================================================\n",
              "Omnibus:                        0.937   Durbin-Watson:                   2.270\n",
              "Prob(Omnibus):                  0.626   Jarque-Bera (JB):                1.006\n",
              "Skew:                           0.182   Prob(JB):                        0.605\n",
              "Kurtosis:                       2.833   Cond. No.                         479.\n",
              "==============================================================================\n",
              "\n",
              "Notes:\n",
              "[1] Standard Errors assume that the covariance matrix of the errors is correctly specified.\n",
              "\"\"\""
            ]
          },
          "execution_count": 152,
          "metadata": {},
          "output_type": "execute_result"
        }
      ],
      "source": [
        "import statsmodels.api as sm\n",
        "x_train = sm.add_constant(X_train)\n",
        "results = sm.OLS(y_train, x_train).fit()\n",
        "results.summary()"
      ]
    },
    {
      "cell_type": "markdown",
      "source": [
        "#### Conclusion"
      ],
      "metadata": {
        "id": "M0_y1D5c2kZU"
      },
      "id": "M0_y1D5c2kZU"
    },
    {
      "cell_type": "markdown",
      "source": [
        "Terlihat bahwa Linear Regression menggunakan tiga atribut lebih efektif dibandingkan dengan regresi sederhana dengan 1 atribut. Hal ini dibuktikan oleh nilai RMSE yang lebih kecil yaitu sebesar 1,98 dan nilai R-squared dan Adjusted R-squared yang tinggi di angka 0,91."
      ],
      "metadata": {
        "id": "xN-vZi-t2mCs"
      },
      "id": "xN-vZi-t2mCs"
    },
    {
      "cell_type": "markdown",
      "id": "bd398fba",
      "metadata": {
        "id": "bd398fba"
      },
      "source": [
        "## Soal 2 - Biaya Asuransi"
      ]
    },
    {
      "cell_type": "code",
      "execution_count": null,
      "id": "39084087",
      "metadata": {
        "id": "39084087"
      },
      "outputs": [],
      "source": [
        "insurance_df = pd.read_csv(\"biaya_asuransi.csv\")"
      ]
    },
    {
      "cell_type": "code",
      "execution_count": null,
      "id": "e42d0480",
      "metadata": {
        "id": "e42d0480",
        "outputId": "b4abf735-afe7-45fb-d9d0-1c533bacfa91"
      },
      "outputs": [
        {
          "data": {
            "text/html": [
              "<div>\n",
              "<style scoped>\n",
              "    .dataframe tbody tr th:only-of-type {\n",
              "        vertical-align: middle;\n",
              "    }\n",
              "\n",
              "    .dataframe tbody tr th {\n",
              "        vertical-align: top;\n",
              "    }\n",
              "\n",
              "    .dataframe thead th {\n",
              "        text-align: right;\n",
              "    }\n",
              "</style>\n",
              "<table border=\"1\" class=\"dataframe\">\n",
              "  <thead>\n",
              "    <tr style=\"text-align: right;\">\n",
              "      <th></th>\n",
              "      <th>umur</th>\n",
              "      <th>jenis_kelamin</th>\n",
              "      <th>bmi</th>\n",
              "      <th>jumlah_anak</th>\n",
              "      <th>perokok</th>\n",
              "      <th>area_tempat_tinggal</th>\n",
              "      <th>biaya</th>\n",
              "    </tr>\n",
              "  </thead>\n",
              "  <tbody>\n",
              "    <tr>\n",
              "      <th>0</th>\n",
              "      <td>19</td>\n",
              "      <td>wanita</td>\n",
              "      <td>27.900</td>\n",
              "      <td>0</td>\n",
              "      <td>iya</td>\n",
              "      <td>barat_daya</td>\n",
              "      <td>16884.92400</td>\n",
              "    </tr>\n",
              "    <tr>\n",
              "      <th>1</th>\n",
              "      <td>18</td>\n",
              "      <td>pria</td>\n",
              "      <td>33.770</td>\n",
              "      <td>1</td>\n",
              "      <td>tidak</td>\n",
              "      <td>tenggara</td>\n",
              "      <td>1725.55230</td>\n",
              "    </tr>\n",
              "    <tr>\n",
              "      <th>2</th>\n",
              "      <td>28</td>\n",
              "      <td>pria</td>\n",
              "      <td>33.000</td>\n",
              "      <td>3</td>\n",
              "      <td>tidak</td>\n",
              "      <td>tenggara</td>\n",
              "      <td>4449.46200</td>\n",
              "    </tr>\n",
              "    <tr>\n",
              "      <th>3</th>\n",
              "      <td>33</td>\n",
              "      <td>pria</td>\n",
              "      <td>22.705</td>\n",
              "      <td>0</td>\n",
              "      <td>tidak</td>\n",
              "      <td>barat_laut</td>\n",
              "      <td>21984.47061</td>\n",
              "    </tr>\n",
              "    <tr>\n",
              "      <th>4</th>\n",
              "      <td>32</td>\n",
              "      <td>pria</td>\n",
              "      <td>28.880</td>\n",
              "      <td>0</td>\n",
              "      <td>tidak</td>\n",
              "      <td>barat_laut</td>\n",
              "      <td>3866.85520</td>\n",
              "    </tr>\n",
              "  </tbody>\n",
              "</table>\n",
              "</div>"
            ],
            "text/plain": [
              "   umur jenis_kelamin     bmi  jumlah_anak perokok area_tempat_tinggal  \\\n",
              "0    19        wanita  27.900            0     iya          barat_daya   \n",
              "1    18          pria  33.770            1   tidak            tenggara   \n",
              "2    28          pria  33.000            3   tidak            tenggara   \n",
              "3    33          pria  22.705            0   tidak          barat_laut   \n",
              "4    32          pria  28.880            0   tidak          barat_laut   \n",
              "\n",
              "         biaya  \n",
              "0  16884.92400  \n",
              "1   1725.55230  \n",
              "2   4449.46200  \n",
              "3  21984.47061  \n",
              "4   3866.85520  "
            ]
          },
          "execution_count": 154,
          "metadata": {},
          "output_type": "execute_result"
        }
      ],
      "source": [
        "insurance_df.head()"
      ]
    },
    {
      "cell_type": "code",
      "execution_count": null,
      "id": "eb0e01c1",
      "metadata": {
        "id": "eb0e01c1",
        "outputId": "68250ce0-ab51-4245-d397-371d09e06060"
      },
      "outputs": [
        {
          "data": {
            "text/html": [
              "<div>\n",
              "<style scoped>\n",
              "    .dataframe tbody tr th:only-of-type {\n",
              "        vertical-align: middle;\n",
              "    }\n",
              "\n",
              "    .dataframe tbody tr th {\n",
              "        vertical-align: top;\n",
              "    }\n",
              "\n",
              "    .dataframe thead th {\n",
              "        text-align: right;\n",
              "    }\n",
              "</style>\n",
              "<table border=\"1\" class=\"dataframe\">\n",
              "  <thead>\n",
              "    <tr style=\"text-align: right;\">\n",
              "      <th></th>\n",
              "      <th>umur</th>\n",
              "      <th>bmi</th>\n",
              "      <th>jumlah_anak</th>\n",
              "      <th>biaya</th>\n",
              "    </tr>\n",
              "  </thead>\n",
              "  <tbody>\n",
              "    <tr>\n",
              "      <th>count</th>\n",
              "      <td>1338.000000</td>\n",
              "      <td>1338.000000</td>\n",
              "      <td>1338.000000</td>\n",
              "      <td>1338.000000</td>\n",
              "    </tr>\n",
              "    <tr>\n",
              "      <th>mean</th>\n",
              "      <td>39.207025</td>\n",
              "      <td>30.663397</td>\n",
              "      <td>1.094918</td>\n",
              "      <td>13270.422265</td>\n",
              "    </tr>\n",
              "    <tr>\n",
              "      <th>std</th>\n",
              "      <td>14.049960</td>\n",
              "      <td>6.098187</td>\n",
              "      <td>1.205493</td>\n",
              "      <td>12110.011237</td>\n",
              "    </tr>\n",
              "    <tr>\n",
              "      <th>min</th>\n",
              "      <td>18.000000</td>\n",
              "      <td>15.960000</td>\n",
              "      <td>0.000000</td>\n",
              "      <td>1121.873900</td>\n",
              "    </tr>\n",
              "    <tr>\n",
              "      <th>25%</th>\n",
              "      <td>27.000000</td>\n",
              "      <td>26.296250</td>\n",
              "      <td>0.000000</td>\n",
              "      <td>4740.287150</td>\n",
              "    </tr>\n",
              "    <tr>\n",
              "      <th>50%</th>\n",
              "      <td>39.000000</td>\n",
              "      <td>30.400000</td>\n",
              "      <td>1.000000</td>\n",
              "      <td>9382.033000</td>\n",
              "    </tr>\n",
              "    <tr>\n",
              "      <th>75%</th>\n",
              "      <td>51.000000</td>\n",
              "      <td>34.693750</td>\n",
              "      <td>2.000000</td>\n",
              "      <td>16639.912515</td>\n",
              "    </tr>\n",
              "    <tr>\n",
              "      <th>max</th>\n",
              "      <td>64.000000</td>\n",
              "      <td>53.130000</td>\n",
              "      <td>5.000000</td>\n",
              "      <td>63770.428010</td>\n",
              "    </tr>\n",
              "  </tbody>\n",
              "</table>\n",
              "</div>"
            ],
            "text/plain": [
              "              umur          bmi  jumlah_anak         biaya\n",
              "count  1338.000000  1338.000000  1338.000000   1338.000000\n",
              "mean     39.207025    30.663397     1.094918  13270.422265\n",
              "std      14.049960     6.098187     1.205493  12110.011237\n",
              "min      18.000000    15.960000     0.000000   1121.873900\n",
              "25%      27.000000    26.296250     0.000000   4740.287150\n",
              "50%      39.000000    30.400000     1.000000   9382.033000\n",
              "75%      51.000000    34.693750     2.000000  16639.912515\n",
              "max      64.000000    53.130000     5.000000  63770.428010"
            ]
          },
          "execution_count": 155,
          "metadata": {},
          "output_type": "execute_result"
        }
      ],
      "source": [
        "insurance_df.describe()"
      ]
    },
    {
      "cell_type": "markdown",
      "id": "4a109f57",
      "metadata": {
        "id": "4a109f57"
      },
      "source": [
        "- Rata-rata umur pemegang asuransi sekitar 40 tahun\n",
        "- Pemegang asuransi umumnya sudah beranak 1\n",
        "- Pemegang asuransi rata-rata memiliki BMI di atas > 25 yang berarti kelebihan berat badan"
      ]
    },
    {
      "cell_type": "code",
      "execution_count": null,
      "id": "22504c1d",
      "metadata": {
        "id": "22504c1d",
        "outputId": "67b3ad22-0186-48a9-874f-12b7e650f9a5"
      },
      "outputs": [
        {
          "name": "stdout",
          "output_type": "stream",
          "text": [
            "<class 'pandas.core.frame.DataFrame'>\n",
            "RangeIndex: 1338 entries, 0 to 1337\n",
            "Data columns (total 7 columns):\n",
            " #   Column               Non-Null Count  Dtype  \n",
            "---  ------               --------------  -----  \n",
            " 0   umur                 1338 non-null   int64  \n",
            " 1   jenis_kelamin        1338 non-null   object \n",
            " 2   bmi                  1338 non-null   float64\n",
            " 3   jumlah_anak          1338 non-null   int64  \n",
            " 4   perokok              1338 non-null   object \n",
            " 5   area_tempat_tinggal  1338 non-null   object \n",
            " 6   biaya                1338 non-null   float64\n",
            "dtypes: float64(2), int64(2), object(3)\n",
            "memory usage: 73.3+ KB\n"
          ]
        }
      ],
      "source": [
        "insurance_df.info()"
      ]
    },
    {
      "cell_type": "markdown",
      "id": "49bdcc84",
      "metadata": {
        "id": "49bdcc84"
      },
      "source": [
        "Terlihat tidak ada null values. Tipe data setiap kolom juga sudah sesuai."
      ]
    },
    {
      "cell_type": "markdown",
      "id": "57e94268",
      "metadata": {
        "id": "57e94268"
      },
      "source": [
        "Sebelum dimasukkan ke dalam model linear regression, semua data bertipe string / object harus diubah dahulu ke bentuk numerik."
      ]
    },
    {
      "cell_type": "code",
      "execution_count": null,
      "id": "844e69a1",
      "metadata": {
        "id": "844e69a1",
        "outputId": "fcf533e6-f135-4a60-9b33-877351009e44"
      },
      "outputs": [
        {
          "data": {
            "text/plain": [
              "array(['iya', 'tidak'], dtype=object)"
            ]
          },
          "execution_count": 157,
          "metadata": {},
          "output_type": "execute_result"
        }
      ],
      "source": [
        "insurance_df['perokok'].unique()"
      ]
    },
    {
      "cell_type": "code",
      "execution_count": null,
      "id": "b3158359",
      "metadata": {
        "id": "b3158359"
      },
      "outputs": [],
      "source": [
        "dict_perokok = {'tidak': 0, 'iya': 1}\n",
        "insurance_df['perokok'] = insurance_df['perokok'].apply(lambda x: dict_perokok[x])"
      ]
    },
    {
      "cell_type": "code",
      "execution_count": null,
      "id": "3c4021b0",
      "metadata": {
        "id": "3c4021b0",
        "outputId": "03e0ed52-c9ad-4d8e-9302-ee4094164322"
      },
      "outputs": [
        {
          "data": {
            "text/plain": [
              "array(['barat_daya', 'tenggara', 'barat_laut', 'timur_laut'], dtype=object)"
            ]
          },
          "execution_count": 160,
          "metadata": {},
          "output_type": "execute_result"
        }
      ],
      "source": [
        "insurance_df['area_tempat_tinggal'].unique()"
      ]
    },
    {
      "cell_type": "code",
      "execution_count": null,
      "id": "76e67584",
      "metadata": {
        "id": "76e67584"
      },
      "outputs": [],
      "source": [
        "dict_area = {'barat_daya': 0, 'tenggara': 1, 'barat_laut': 2, 'timur_laut': 3}\n",
        "insurance_df['area_tempat_tinggal'] = insurance_df['area_tempat_tinggal'].apply(lambda x: dict_area[x])"
      ]
    },
    {
      "cell_type": "code",
      "execution_count": null,
      "id": "f3afe077",
      "metadata": {
        "id": "f3afe077",
        "outputId": "cffb8dff-d402-4984-ffed-69535e914e78"
      },
      "outputs": [
        {
          "data": {
            "text/plain": [
              "array(['wanita', 'pria'], dtype=object)"
            ]
          },
          "execution_count": 169,
          "metadata": {},
          "output_type": "execute_result"
        }
      ],
      "source": [
        "insurance_df['jenis_kelamin'].unique()"
      ]
    },
    {
      "cell_type": "code",
      "execution_count": null,
      "id": "ac620a45",
      "metadata": {
        "id": "ac620a45"
      },
      "outputs": [],
      "source": [
        "dict_gender = {'wanita': 0, 'pria': 1}\n",
        "insurance_df['jenis_kelamin'] = insurance_df['jenis_kelamin'].apply(lambda x: dict_gender[x])"
      ]
    },
    {
      "cell_type": "code",
      "execution_count": null,
      "id": "6e200190",
      "metadata": {
        "id": "6e200190",
        "outputId": "c16bd308-b14e-47b8-e578-b35f5fdfd39d"
      },
      "outputs": [
        {
          "data": {
            "text/html": [
              "<div>\n",
              "<style scoped>\n",
              "    .dataframe tbody tr th:only-of-type {\n",
              "        vertical-align: middle;\n",
              "    }\n",
              "\n",
              "    .dataframe tbody tr th {\n",
              "        vertical-align: top;\n",
              "    }\n",
              "\n",
              "    .dataframe thead th {\n",
              "        text-align: right;\n",
              "    }\n",
              "</style>\n",
              "<table border=\"1\" class=\"dataframe\">\n",
              "  <thead>\n",
              "    <tr style=\"text-align: right;\">\n",
              "      <th></th>\n",
              "      <th>umur</th>\n",
              "      <th>jenis_kelamin</th>\n",
              "      <th>bmi</th>\n",
              "      <th>jumlah_anak</th>\n",
              "      <th>perokok</th>\n",
              "      <th>area_tempat_tinggal</th>\n",
              "      <th>biaya</th>\n",
              "    </tr>\n",
              "  </thead>\n",
              "  <tbody>\n",
              "    <tr>\n",
              "      <th>0</th>\n",
              "      <td>19</td>\n",
              "      <td>0</td>\n",
              "      <td>27.900</td>\n",
              "      <td>0</td>\n",
              "      <td>1</td>\n",
              "      <td>0</td>\n",
              "      <td>16884.92400</td>\n",
              "    </tr>\n",
              "    <tr>\n",
              "      <th>1</th>\n",
              "      <td>18</td>\n",
              "      <td>1</td>\n",
              "      <td>33.770</td>\n",
              "      <td>1</td>\n",
              "      <td>0</td>\n",
              "      <td>1</td>\n",
              "      <td>1725.55230</td>\n",
              "    </tr>\n",
              "    <tr>\n",
              "      <th>2</th>\n",
              "      <td>28</td>\n",
              "      <td>1</td>\n",
              "      <td>33.000</td>\n",
              "      <td>3</td>\n",
              "      <td>0</td>\n",
              "      <td>1</td>\n",
              "      <td>4449.46200</td>\n",
              "    </tr>\n",
              "    <tr>\n",
              "      <th>3</th>\n",
              "      <td>33</td>\n",
              "      <td>1</td>\n",
              "      <td>22.705</td>\n",
              "      <td>0</td>\n",
              "      <td>0</td>\n",
              "      <td>2</td>\n",
              "      <td>21984.47061</td>\n",
              "    </tr>\n",
              "    <tr>\n",
              "      <th>4</th>\n",
              "      <td>32</td>\n",
              "      <td>1</td>\n",
              "      <td>28.880</td>\n",
              "      <td>0</td>\n",
              "      <td>0</td>\n",
              "      <td>2</td>\n",
              "      <td>3866.85520</td>\n",
              "    </tr>\n",
              "  </tbody>\n",
              "</table>\n",
              "</div>"
            ],
            "text/plain": [
              "   umur  jenis_kelamin     bmi  jumlah_anak  perokok  area_tempat_tinggal  \\\n",
              "0    19              0  27.900            0        1                    0   \n",
              "1    18              1  33.770            1        0                    1   \n",
              "2    28              1  33.000            3        0                    1   \n",
              "3    33              1  22.705            0        0                    2   \n",
              "4    32              1  28.880            0        0                    2   \n",
              "\n",
              "         biaya  \n",
              "0  16884.92400  \n",
              "1   1725.55230  \n",
              "2   4449.46200  \n",
              "3  21984.47061  \n",
              "4   3866.85520  "
            ]
          },
          "execution_count": 171,
          "metadata": {},
          "output_type": "execute_result"
        }
      ],
      "source": [
        "insurance_df.head()"
      ]
    },
    {
      "cell_type": "markdown",
      "id": "8ae071b7",
      "metadata": {
        "id": "8ae071b7"
      },
      "source": [
        "### Linear Regression"
      ]
    },
    {
      "cell_type": "markdown",
      "source": [
        "#### Feature Engineering"
      ],
      "metadata": {
        "id": "h9sU2LCw3HkQ"
      },
      "id": "h9sU2LCw3HkQ"
    },
    {
      "cell_type": "code",
      "execution_count": null,
      "id": "96cff7df",
      "metadata": {
        "id": "96cff7df"
      },
      "outputs": [],
      "source": [
        "features = ['umur','jenis_kelamin','bmi','jumlah_anak','perokok','area_tempat_tinggal']\n",
        "X = insurance_df[features]\n",
        "y = insurance_df[['biaya']]"
      ]
    },
    {
      "cell_type": "code",
      "execution_count": null,
      "id": "74e7803d",
      "metadata": {
        "id": "74e7803d",
        "outputId": "b8b0cfb9-305a-4650-86e0-241d09a01738"
      },
      "outputs": [
        {
          "data": {
            "text/html": [
              "<div>\n",
              "<style scoped>\n",
              "    .dataframe tbody tr th:only-of-type {\n",
              "        vertical-align: middle;\n",
              "    }\n",
              "\n",
              "    .dataframe tbody tr th {\n",
              "        vertical-align: top;\n",
              "    }\n",
              "\n",
              "    .dataframe thead th {\n",
              "        text-align: right;\n",
              "    }\n",
              "</style>\n",
              "<table border=\"1\" class=\"dataframe\">\n",
              "  <thead>\n",
              "    <tr style=\"text-align: right;\">\n",
              "      <th></th>\n",
              "      <th>umur</th>\n",
              "      <th>jenis_kelamin</th>\n",
              "      <th>bmi</th>\n",
              "      <th>jumlah_anak</th>\n",
              "      <th>perokok</th>\n",
              "      <th>area_tempat_tinggal</th>\n",
              "    </tr>\n",
              "  </thead>\n",
              "  <tbody>\n",
              "    <tr>\n",
              "      <th>0</th>\n",
              "      <td>19</td>\n",
              "      <td>0</td>\n",
              "      <td>27.90</td>\n",
              "      <td>0</td>\n",
              "      <td>1</td>\n",
              "      <td>0</td>\n",
              "    </tr>\n",
              "    <tr>\n",
              "      <th>1</th>\n",
              "      <td>18</td>\n",
              "      <td>1</td>\n",
              "      <td>33.77</td>\n",
              "      <td>1</td>\n",
              "      <td>0</td>\n",
              "      <td>1</td>\n",
              "    </tr>\n",
              "  </tbody>\n",
              "</table>\n",
              "</div>"
            ],
            "text/plain": [
              "   umur  jenis_kelamin    bmi  jumlah_anak  perokok  area_tempat_tinggal\n",
              "0    19              0  27.90            0        1                    0\n",
              "1    18              1  33.77            1        0                    1"
            ]
          },
          "execution_count": 173,
          "metadata": {},
          "output_type": "execute_result"
        }
      ],
      "source": [
        "X.head(2)"
      ]
    },
    {
      "cell_type": "code",
      "execution_count": null,
      "id": "fb9c79ac",
      "metadata": {
        "id": "fb9c79ac",
        "outputId": "ab328b3c-b869-411e-d17e-2d705656975d"
      },
      "outputs": [
        {
          "data": {
            "text/html": [
              "<div>\n",
              "<style scoped>\n",
              "    .dataframe tbody tr th:only-of-type {\n",
              "        vertical-align: middle;\n",
              "    }\n",
              "\n",
              "    .dataframe tbody tr th {\n",
              "        vertical-align: top;\n",
              "    }\n",
              "\n",
              "    .dataframe thead th {\n",
              "        text-align: right;\n",
              "    }\n",
              "</style>\n",
              "<table border=\"1\" class=\"dataframe\">\n",
              "  <thead>\n",
              "    <tr style=\"text-align: right;\">\n",
              "      <th></th>\n",
              "      <th>biaya</th>\n",
              "    </tr>\n",
              "  </thead>\n",
              "  <tbody>\n",
              "    <tr>\n",
              "      <th>0</th>\n",
              "      <td>16884.9240</td>\n",
              "    </tr>\n",
              "    <tr>\n",
              "      <th>1</th>\n",
              "      <td>1725.5523</td>\n",
              "    </tr>\n",
              "  </tbody>\n",
              "</table>\n",
              "</div>"
            ],
            "text/plain": [
              "        biaya\n",
              "0  16884.9240\n",
              "1   1725.5523"
            ]
          },
          "execution_count": 174,
          "metadata": {},
          "output_type": "execute_result"
        }
      ],
      "source": [
        "y.head(2)"
      ]
    },
    {
      "cell_type": "code",
      "execution_count": null,
      "id": "d89fe4ee",
      "metadata": {
        "id": "d89fe4ee"
      },
      "outputs": [],
      "source": [
        "X_train, X_test, y_train, y_test = train_test_split(X, y, random_state=0)"
      ]
    },
    {
      "cell_type": "markdown",
      "source": [
        "#### Modelling"
      ],
      "metadata": {
        "id": "o8540Hcy3LAO"
      },
      "id": "o8540Hcy3LAO"
    },
    {
      "cell_type": "code",
      "execution_count": null,
      "id": "51cabae6",
      "metadata": {
        "id": "51cabae6",
        "outputId": "0b35875b-4026-40a6-880f-f335473dd06d"
      },
      "outputs": [
        {
          "name": "stdout",
          "output_type": "stream",
          "text": [
            "Coefficients:  [2.50537556e+02 3.65092141e+00 3.22881906e+02 4.50147445e+02\n",
            " 2.36021161e+04 3.41244000e+02]\n",
            "Intercept:  [-12284.8708249]\n"
          ]
        }
      ],
      "source": [
        "regr = LinearRegression().fit(X_train, y_train)\n",
        "\n",
        "print ('Coefficients: ', regr.coef_[0])\n",
        "print ('Intercept: ', regr.intercept_)"
      ]
    },
    {
      "cell_type": "code",
      "execution_count": null,
      "id": "4048baad",
      "metadata": {
        "id": "4048baad",
        "outputId": "85adf9ae-f72e-4291-ce8b-e82637cc58f6"
      },
      "outputs": [
        {
          "data": {
            "text/plain": [
              "array([[10947.91401491],\n",
              "       [ 9764.82733066],\n",
              "       [38027.18625354],\n",
              "       [16076.26656375],\n",
              "       [ 7003.05093861]])"
            ]
          },
          "execution_count": 177,
          "metadata": {},
          "output_type": "execute_result"
        }
      ],
      "source": [
        "predictions = regr.predict(X_test)\n",
        "predictions[:5]"
      ]
    },
    {
      "cell_type": "code",
      "execution_count": null,
      "id": "d223aa36",
      "metadata": {
        "id": "d223aa36",
        "outputId": "afced62c-657c-49eb-f030-6d76b0ecf207"
      },
      "outputs": [
        {
          "data": {
            "text/html": [
              "<div>\n",
              "<style scoped>\n",
              "    .dataframe tbody tr th:only-of-type {\n",
              "        vertical-align: middle;\n",
              "    }\n",
              "\n",
              "    .dataframe tbody tr th {\n",
              "        vertical-align: top;\n",
              "    }\n",
              "\n",
              "    .dataframe thead th {\n",
              "        text-align: right;\n",
              "    }\n",
              "</style>\n",
              "<table border=\"1\" class=\"dataframe\">\n",
              "  <thead>\n",
              "    <tr style=\"text-align: right;\">\n",
              "      <th></th>\n",
              "      <th>Pred</th>\n",
              "      <th>Actual</th>\n",
              "    </tr>\n",
              "  </thead>\n",
              "  <tbody>\n",
              "    <tr>\n",
              "      <th>0</th>\n",
              "      <td>10947.914015</td>\n",
              "      <td>9724.53000</td>\n",
              "    </tr>\n",
              "    <tr>\n",
              "      <th>1</th>\n",
              "      <td>9764.827331</td>\n",
              "      <td>8547.69130</td>\n",
              "    </tr>\n",
              "    <tr>\n",
              "      <th>2</th>\n",
              "      <td>38027.186254</td>\n",
              "      <td>45702.02235</td>\n",
              "    </tr>\n",
              "    <tr>\n",
              "      <th>3</th>\n",
              "      <td>16076.266564</td>\n",
              "      <td>12950.07120</td>\n",
              "    </tr>\n",
              "    <tr>\n",
              "      <th>4</th>\n",
              "      <td>7003.050939</td>\n",
              "      <td>9644.25250</td>\n",
              "    </tr>\n",
              "  </tbody>\n",
              "</table>\n",
              "</div>"
            ],
            "text/plain": [
              "           Pred       Actual\n",
              "0  10947.914015   9724.53000\n",
              "1   9764.827331   8547.69130\n",
              "2  38027.186254  45702.02235\n",
              "3  16076.266564  12950.07120\n",
              "4   7003.050939   9644.25250"
            ]
          },
          "execution_count": 178,
          "metadata": {},
          "output_type": "execute_result"
        }
      ],
      "source": [
        "predictions_df = pd.DataFrame(predictions, columns=['Pred'])\n",
        "predictions_df['Actual'] = y_test.values\n",
        "predictions_df.head()"
      ]
    },
    {
      "cell_type": "code",
      "execution_count": null,
      "id": "2eeb783c",
      "metadata": {
        "id": "2eeb783c",
        "outputId": "45668794-c33e-4241-8893-424036ce733f"
      },
      "outputs": [
        {
          "name": "stdout",
          "output_type": "stream",
          "text": [
            "RMSE: 5663.3584\n"
          ]
        }
      ],
      "source": [
        "from sklearn.metrics import mean_squared_error\n",
        "rmse = mean_squared_error(predictions_df['Actual'], predictions_df['Pred'], squared=False)\n",
        "print(f\"RMSE: {round(rmse, 4)}\")"
      ]
    },
    {
      "cell_type": "code",
      "execution_count": null,
      "id": "b0d07210",
      "metadata": {
        "scrolled": true,
        "id": "b0d07210",
        "outputId": "6e72aadd-51b2-435c-f8f7-d24c397da67b"
      },
      "outputs": [
        {
          "data": {
            "text/html": [
              "<table class=\"simpletable\">\n",
              "<caption>OLS Regression Results</caption>\n",
              "<tr>\n",
              "  <th>Dep. Variable:</th>          <td>biaya</td>      <th>  R-squared:         </th> <td>   0.734</td> \n",
              "</tr>\n",
              "<tr>\n",
              "  <th>Model:</th>                   <td>OLS</td>       <th>  Adj. R-squared:    </th> <td>   0.732</td> \n",
              "</tr>\n",
              "<tr>\n",
              "  <th>Method:</th>             <td>Least Squares</td>  <th>  F-statistic:       </th> <td>   457.4</td> \n",
              "</tr>\n",
              "<tr>\n",
              "  <th>Date:</th>             <td>Sun, 06 Nov 2022</td> <th>  Prob (F-statistic):</th> <td>4.46e-282</td>\n",
              "</tr>\n",
              "<tr>\n",
              "  <th>Time:</th>                 <td>16:10:01</td>     <th>  Log-Likelihood:    </th> <td> -10177.</td> \n",
              "</tr>\n",
              "<tr>\n",
              "  <th>No. Observations:</th>      <td>  1003</td>      <th>  AIC:               </th> <td>2.037e+04</td>\n",
              "</tr>\n",
              "<tr>\n",
              "  <th>Df Residuals:</th>          <td>   996</td>      <th>  BIC:               </th> <td>2.040e+04</td>\n",
              "</tr>\n",
              "<tr>\n",
              "  <th>Df Model:</th>              <td>     6</td>      <th>                     </th>     <td> </td>    \n",
              "</tr>\n",
              "<tr>\n",
              "  <th>Covariance Type:</th>      <td>nonrobust</td>    <th>                     </th>     <td> </td>    \n",
              "</tr>\n",
              "</table>\n",
              "<table class=\"simpletable\">\n",
              "<tr>\n",
              "           <td></td>              <th>coef</th>     <th>std err</th>      <th>t</th>      <th>P>|t|</th>  <th>[0.025</th>    <th>0.975]</th>  \n",
              "</tr>\n",
              "<tr>\n",
              "  <th>const</th>               <td>-1.228e+04</td> <td> 1166.394</td> <td>  -10.532</td> <td> 0.000</td> <td>-1.46e+04</td> <td>-9995.999</td>\n",
              "</tr>\n",
              "<tr>\n",
              "  <th>umur</th>                <td>  250.5376</td> <td>   14.062</td> <td>   17.817</td> <td> 0.000</td> <td>  222.943</td> <td>  278.132</td>\n",
              "</tr>\n",
              "<tr>\n",
              "  <th>jenis_kelamin</th>       <td>    3.6509</td> <td>  392.214</td> <td>    0.009</td> <td> 0.993</td> <td> -766.009</td> <td>  773.311</td>\n",
              "</tr>\n",
              "<tr>\n",
              "  <th>bmi</th>                 <td>  322.8819</td> <td>   31.928</td> <td>   10.113</td> <td> 0.000</td> <td>  260.227</td> <td>  385.537</td>\n",
              "</tr>\n",
              "<tr>\n",
              "  <th>jumlah_anak</th>         <td>  450.1474</td> <td>  162.504</td> <td>    2.770</td> <td> 0.006</td> <td>  131.258</td> <td>  769.037</td>\n",
              "</tr>\n",
              "<tr>\n",
              "  <th>perokok</th>             <td>  2.36e+04</td> <td>  488.662</td> <td>   48.300</td> <td> 0.000</td> <td> 2.26e+04</td> <td> 2.46e+04</td>\n",
              "</tr>\n",
              "<tr>\n",
              "  <th>area_tempat_tinggal</th> <td>  341.2440</td> <td>  179.063</td> <td>    1.906</td> <td> 0.057</td> <td>  -10.141</td> <td>  692.629</td>\n",
              "</tr>\n",
              "</table>\n",
              "<table class=\"simpletable\">\n",
              "<tr>\n",
              "  <th>Omnibus:</th>       <td>246.113</td> <th>  Durbin-Watson:     </th> <td>   2.011</td> \n",
              "</tr>\n",
              "<tr>\n",
              "  <th>Prob(Omnibus):</th> <td> 0.000</td>  <th>  Jarque-Bera (JB):  </th> <td> 605.913</td> \n",
              "</tr>\n",
              "<tr>\n",
              "  <th>Skew:</th>          <td> 1.294</td>  <th>  Prob(JB):          </th> <td>2.68e-132</td>\n",
              "</tr>\n",
              "<tr>\n",
              "  <th>Kurtosis:</th>      <td> 5.793</td>  <th>  Cond. No.          </th> <td>    308.</td> \n",
              "</tr>\n",
              "</table><br/><br/>Notes:<br/>[1] Standard Errors assume that the covariance matrix of the errors is correctly specified."
            ],
            "text/plain": [
              "<class 'statsmodels.iolib.summary.Summary'>\n",
              "\"\"\"\n",
              "                            OLS Regression Results                            \n",
              "==============================================================================\n",
              "Dep. Variable:                  biaya   R-squared:                       0.734\n",
              "Model:                            OLS   Adj. R-squared:                  0.732\n",
              "Method:                 Least Squares   F-statistic:                     457.4\n",
              "Date:                Sun, 06 Nov 2022   Prob (F-statistic):          4.46e-282\n",
              "Time:                        16:10:01   Log-Likelihood:                -10177.\n",
              "No. Observations:                1003   AIC:                         2.037e+04\n",
              "Df Residuals:                     996   BIC:                         2.040e+04\n",
              "Df Model:                           6                                         \n",
              "Covariance Type:            nonrobust                                         \n",
              "=======================================================================================\n",
              "                          coef    std err          t      P>|t|      [0.025      0.975]\n",
              "---------------------------------------------------------------------------------------\n",
              "const               -1.228e+04   1166.394    -10.532      0.000   -1.46e+04   -9995.999\n",
              "umur                  250.5376     14.062     17.817      0.000     222.943     278.132\n",
              "jenis_kelamin           3.6509    392.214      0.009      0.993    -766.009     773.311\n",
              "bmi                   322.8819     31.928     10.113      0.000     260.227     385.537\n",
              "jumlah_anak           450.1474    162.504      2.770      0.006     131.258     769.037\n",
              "perokok               2.36e+04    488.662     48.300      0.000    2.26e+04    2.46e+04\n",
              "area_tempat_tinggal   341.2440    179.063      1.906      0.057     -10.141     692.629\n",
              "==============================================================================\n",
              "Omnibus:                      246.113   Durbin-Watson:                   2.011\n",
              "Prob(Omnibus):                  0.000   Jarque-Bera (JB):              605.913\n",
              "Skew:                           1.294   Prob(JB):                    2.68e-132\n",
              "Kurtosis:                       5.793   Cond. No.                         308.\n",
              "==============================================================================\n",
              "\n",
              "Notes:\n",
              "[1] Standard Errors assume that the covariance matrix of the errors is correctly specified.\n",
              "\"\"\""
            ]
          },
          "execution_count": 180,
          "metadata": {},
          "output_type": "execute_result"
        }
      ],
      "source": [
        "import statsmodels.api as sm\n",
        "x_train = sm.add_constant(X_train)\n",
        "results = sm.OLS(y_train, x_train).fit()\n",
        "results.summary()"
      ]
    },
    {
      "cell_type": "markdown",
      "source": [
        "#### Conclusion"
      ],
      "metadata": {
        "id": "rUAUUXlB3U5E"
      },
      "id": "rUAUUXlB3U5E"
    },
    {
      "cell_type": "markdown",
      "source": [
        "Dengan menggunakan seluruh atribut, model linear regression menghasilkan RMSE sebesar 5663.35. Nilai R-squared 0,73 berarti model cukup baik dalam 'fitting' data train. Mari kita lihat kinerja model bila atribut yang digunakan lebih sedikit."
      ],
      "metadata": {
        "id": "25v6qMRc3WqM"
      },
      "id": "25v6qMRc3WqM"
    },
    {
      "cell_type": "markdown",
      "id": "4bdad3d8",
      "metadata": {
        "id": "4bdad3d8"
      },
      "source": [
        "### Linear Regression - Top 3 Features"
      ]
    },
    {
      "cell_type": "markdown",
      "source": [
        "#### Correlation Heatmap"
      ],
      "metadata": {
        "id": "0F8HzXZI4RQy"
      },
      "id": "0F8HzXZI4RQy"
    },
    {
      "cell_type": "code",
      "execution_count": null,
      "id": "ada87979",
      "metadata": {
        "id": "ada87979",
        "outputId": "e925d565-57fc-433f-a0b0-5129310a9245"
      },
      "outputs": [
        {
          "data": {
            "image/png": "[encoded data removed]",
            "text/plain": [
              "<Figure size 432x288 with 2 Axes>"
            ]
          },
          "metadata": {
            "needs_background": "light"
          },
          "output_type": "display_data"
        }
      ],
      "source": [
        "import matplotlib.pyplot as plt \n",
        "import seaborn as sns\n",
        "sns.heatmap(insurance_df.corr(), cmap=\"YlGnBu\", annot = True)\n",
        "plt.show()"
      ]
    },
    {
      "cell_type": "markdown",
      "source": [
        "Heatmap di atas menampilkan korelasi setiap atribut terhadap label biaya."
      ],
      "metadata": {
        "id": "ind7qSdG3_09"
      },
      "id": "ind7qSdG3_09"
    },
    {
      "cell_type": "code",
      "execution_count": null,
      "id": "7a478b7f",
      "metadata": {
        "id": "7a478b7f",
        "outputId": "1b75607c-aeaf-404a-e4ba-e13ca15de14a"
      },
      "outputs": [
        {
          "data": {
            "text/plain": [
              "biaya                  1.000000\n",
              "perokok                0.787251\n",
              "umur                   0.299008\n",
              "bmi                    0.198341\n",
              "jumlah_anak            0.067998\n",
              "jenis_kelamin          0.057292\n",
              "area_tempat_tinggal    0.006208\n",
              "Name: biaya, dtype: float64"
            ]
          },
          "execution_count": 188,
          "metadata": {},
          "output_type": "execute_result"
        }
      ],
      "source": [
        "insurance_df.corr()['biaya'].sort_values(ascending=False)"
      ]
    },
    {
      "cell_type": "markdown",
      "id": "ef53c6f8",
      "metadata": {
        "id": "ef53c6f8"
      },
      "source": [
        "Atribut / fitur dengan korelasi tertinggi adalah perokok, umur, dan bmi."
      ]
    },
    {
      "cell_type": "markdown",
      "source": [
        "#### Feature Engineering"
      ],
      "metadata": {
        "id": "RHGkwNhD4VYv"
      },
      "id": "RHGkwNhD4VYv"
    },
    {
      "cell_type": "code",
      "execution_count": null,
      "id": "5bb642ff",
      "metadata": {
        "id": "5bb642ff"
      },
      "outputs": [],
      "source": [
        "features = ['perokok', 'umur', 'bmi']\n",
        "X = insurance_df[features]\n",
        "y = insurance_df[['biaya']]"
      ]
    },
    {
      "cell_type": "code",
      "execution_count": null,
      "id": "429cfd7e",
      "metadata": {
        "id": "429cfd7e",
        "outputId": "997d17e8-2377-4f39-d193-e55550ca7317"
      },
      "outputs": [
        {
          "data": {
            "text/html": [
              "<div>\n",
              "<style scoped>\n",
              "    .dataframe tbody tr th:only-of-type {\n",
              "        vertical-align: middle;\n",
              "    }\n",
              "\n",
              "    .dataframe tbody tr th {\n",
              "        vertical-align: top;\n",
              "    }\n",
              "\n",
              "    .dataframe thead th {\n",
              "        text-align: right;\n",
              "    }\n",
              "</style>\n",
              "<table border=\"1\" class=\"dataframe\">\n",
              "  <thead>\n",
              "    <tr style=\"text-align: right;\">\n",
              "      <th></th>\n",
              "      <th>perokok</th>\n",
              "      <th>umur</th>\n",
              "      <th>bmi</th>\n",
              "    </tr>\n",
              "  </thead>\n",
              "  <tbody>\n",
              "    <tr>\n",
              "      <th>0</th>\n",
              "      <td>1</td>\n",
              "      <td>19</td>\n",
              "      <td>27.90</td>\n",
              "    </tr>\n",
              "    <tr>\n",
              "      <th>1</th>\n",
              "      <td>0</td>\n",
              "      <td>18</td>\n",
              "      <td>33.77</td>\n",
              "    </tr>\n",
              "  </tbody>\n",
              "</table>\n",
              "</div>"
            ],
            "text/plain": [
              "   perokok  umur    bmi\n",
              "0        1    19  27.90\n",
              "1        0    18  33.77"
            ]
          },
          "execution_count": 190,
          "metadata": {},
          "output_type": "execute_result"
        }
      ],
      "source": [
        "X.head(2)"
      ]
    },
    {
      "cell_type": "code",
      "execution_count": null,
      "id": "99cd32fc",
      "metadata": {
        "id": "99cd32fc",
        "outputId": "8a79548f-5d82-4966-d22e-e9198f92fcbe"
      },
      "outputs": [
        {
          "data": {
            "text/html": [
              "<div>\n",
              "<style scoped>\n",
              "    .dataframe tbody tr th:only-of-type {\n",
              "        vertical-align: middle;\n",
              "    }\n",
              "\n",
              "    .dataframe tbody tr th {\n",
              "        vertical-align: top;\n",
              "    }\n",
              "\n",
              "    .dataframe thead th {\n",
              "        text-align: right;\n",
              "    }\n",
              "</style>\n",
              "<table border=\"1\" class=\"dataframe\">\n",
              "  <thead>\n",
              "    <tr style=\"text-align: right;\">\n",
              "      <th></th>\n",
              "      <th>biaya</th>\n",
              "    </tr>\n",
              "  </thead>\n",
              "  <tbody>\n",
              "    <tr>\n",
              "      <th>0</th>\n",
              "      <td>16884.9240</td>\n",
              "    </tr>\n",
              "    <tr>\n",
              "      <th>1</th>\n",
              "      <td>1725.5523</td>\n",
              "    </tr>\n",
              "  </tbody>\n",
              "</table>\n",
              "</div>"
            ],
            "text/plain": [
              "        biaya\n",
              "0  16884.9240\n",
              "1   1725.5523"
            ]
          },
          "execution_count": 191,
          "metadata": {},
          "output_type": "execute_result"
        }
      ],
      "source": [
        "y.head(2)"
      ]
    },
    {
      "cell_type": "code",
      "execution_count": null,
      "id": "dde3e5db",
      "metadata": {
        "id": "dde3e5db"
      },
      "outputs": [],
      "source": [
        "X_train, X_test, y_train, y_test = train_test_split(X, y, random_state=0)"
      ]
    },
    {
      "cell_type": "markdown",
      "source": [
        "#### Modelling"
      ],
      "metadata": {
        "id": "bEZ5AGAc4XuD"
      },
      "id": "bEZ5AGAc4XuD"
    },
    {
      "cell_type": "code",
      "execution_count": null,
      "id": "7ba7be2e",
      "metadata": {
        "id": "7ba7be2e",
        "outputId": "58a6a0cd-73b7-4295-c81d-e4761e6266ae"
      },
      "outputs": [
        {
          "name": "stdout",
          "output_type": "stream",
          "text": [
            "Coefficients:  [23661.26266912   254.27296803   315.05007902]\n",
            "Intercept:  [-11227.74578734]\n"
          ]
        }
      ],
      "source": [
        "regr = LinearRegression().fit(X_train, y_train)\n",
        "\n",
        "print ('Coefficients: ', regr.coef_[0])\n",
        "print ('Intercept: ', regr.intercept_)"
      ]
    },
    {
      "cell_type": "code",
      "execution_count": null,
      "id": "d0d2c6c1",
      "metadata": {
        "id": "d0d2c6c1",
        "outputId": "ffdb4b35-5847-4c18-dab5-2966e5bbe021"
      },
      "outputs": [
        {
          "data": {
            "text/plain": [
              "array([[11508.96093643],\n",
              "       [ 9976.10453072],\n",
              "       [37418.6258025 ],\n",
              "       [16374.52729505],\n",
              "       [ 7426.82950831]])"
            ]
          },
          "execution_count": 194,
          "metadata": {},
          "output_type": "execute_result"
        }
      ],
      "source": [
        "predictions = regr.predict(X_test)\n",
        "predictions[:5]"
      ]
    },
    {
      "cell_type": "code",
      "execution_count": null,
      "id": "23a53bc2",
      "metadata": {
        "id": "23a53bc2",
        "outputId": "312b5a38-5edc-42d6-86ee-d3401cc7d7fa"
      },
      "outputs": [
        {
          "data": {
            "text/html": [
              "<div>\n",
              "<style scoped>\n",
              "    .dataframe tbody tr th:only-of-type {\n",
              "        vertical-align: middle;\n",
              "    }\n",
              "\n",
              "    .dataframe tbody tr th {\n",
              "        vertical-align: top;\n",
              "    }\n",
              "\n",
              "    .dataframe thead th {\n",
              "        text-align: right;\n",
              "    }\n",
              "</style>\n",
              "<table border=\"1\" class=\"dataframe\">\n",
              "  <thead>\n",
              "    <tr style=\"text-align: right;\">\n",
              "      <th></th>\n",
              "      <th>Pred</th>\n",
              "      <th>Actual</th>\n",
              "    </tr>\n",
              "  </thead>\n",
              "  <tbody>\n",
              "    <tr>\n",
              "      <th>0</th>\n",
              "      <td>11508.960936</td>\n",
              "      <td>9724.53000</td>\n",
              "    </tr>\n",
              "    <tr>\n",
              "      <th>1</th>\n",
              "      <td>9976.104531</td>\n",
              "      <td>8547.69130</td>\n",
              "    </tr>\n",
              "    <tr>\n",
              "      <th>2</th>\n",
              "      <td>37418.625802</td>\n",
              "      <td>45702.02235</td>\n",
              "    </tr>\n",
              "    <tr>\n",
              "      <th>3</th>\n",
              "      <td>16374.527295</td>\n",
              "      <td>12950.07120</td>\n",
              "    </tr>\n",
              "    <tr>\n",
              "      <th>4</th>\n",
              "      <td>7426.829508</td>\n",
              "      <td>9644.25250</td>\n",
              "    </tr>\n",
              "  </tbody>\n",
              "</table>\n",
              "</div>"
            ],
            "text/plain": [
              "           Pred       Actual\n",
              "0  11508.960936   9724.53000\n",
              "1   9976.104531   8547.69130\n",
              "2  37418.625802  45702.02235\n",
              "3  16374.527295  12950.07120\n",
              "4   7426.829508   9644.25250"
            ]
          },
          "execution_count": 195,
          "metadata": {},
          "output_type": "execute_result"
        }
      ],
      "source": [
        "predictions_df = pd.DataFrame(predictions, columns=['Pred'])\n",
        "predictions_df['Actual'] = y_test.values\n",
        "predictions_df.head()"
      ]
    },
    {
      "cell_type": "code",
      "execution_count": null,
      "id": "fb7059df",
      "metadata": {
        "id": "fb7059df",
        "outputId": "f7f7096b-e2be-4582-8d07-9d799bc51264"
      },
      "outputs": [
        {
          "name": "stdout",
          "output_type": "stream",
          "text": [
            "RMSE: 5716.4892\n"
          ]
        }
      ],
      "source": [
        "from sklearn.metrics import mean_squared_error\n",
        "rmse = mean_squared_error(predictions_df['Actual'], predictions_df['Pred'], squared=False)\n",
        "print(f\"RMSE: {round(rmse, 4)}\")"
      ]
    },
    {
      "cell_type": "code",
      "execution_count": null,
      "id": "9a801b41",
      "metadata": {
        "scrolled": true,
        "id": "9a801b41",
        "outputId": "7c0a103b-386b-4c4d-9eb9-dafc0cdc8b53"
      },
      "outputs": [
        {
          "data": {
            "text/html": [
              "<table class=\"simpletable\">\n",
              "<caption>OLS Regression Results</caption>\n",
              "<tr>\n",
              "  <th>Dep. Variable:</th>          <td>biaya</td>      <th>  R-squared:         </th> <td>   0.731</td> \n",
              "</tr>\n",
              "<tr>\n",
              "  <th>Model:</th>                   <td>OLS</td>       <th>  Adj. R-squared:    </th> <td>   0.730</td> \n",
              "</tr>\n",
              "<tr>\n",
              "  <th>Method:</th>             <td>Least Squares</td>  <th>  F-statistic:       </th> <td>   904.0</td> \n",
              "</tr>\n",
              "<tr>\n",
              "  <th>Date:</th>             <td>Sun, 06 Nov 2022</td> <th>  Prob (F-statistic):</th> <td>4.60e-284</td>\n",
              "</tr>\n",
              "<tr>\n",
              "  <th>Time:</th>                 <td>16:34:09</td>     <th>  Log-Likelihood:    </th> <td> -10182.</td> \n",
              "</tr>\n",
              "<tr>\n",
              "  <th>No. Observations:</th>      <td>  1003</td>      <th>  AIC:               </th> <td>2.037e+04</td>\n",
              "</tr>\n",
              "<tr>\n",
              "  <th>Df Residuals:</th>          <td>   999</td>      <th>  BIC:               </th> <td>2.039e+04</td>\n",
              "</tr>\n",
              "<tr>\n",
              "  <th>Df Model:</th>              <td>     3</td>      <th>                     </th>     <td> </td>    \n",
              "</tr>\n",
              "<tr>\n",
              "  <th>Covariance Type:</th>      <td>nonrobust</td>    <th>                     </th>     <td> </td>    \n",
              "</tr>\n",
              "</table>\n",
              "<table class=\"simpletable\">\n",
              "<tr>\n",
              "     <td></td>        <th>coef</th>     <th>std err</th>      <th>t</th>      <th>P>|t|</th>  <th>[0.025</th>    <th>0.975]</th>  \n",
              "</tr>\n",
              "<tr>\n",
              "  <th>const</th>   <td>-1.123e+04</td> <td> 1090.228</td> <td>  -10.299</td> <td> 0.000</td> <td>-1.34e+04</td> <td>-9088.345</td>\n",
              "</tr>\n",
              "<tr>\n",
              "  <th>perokok</th> <td> 2.366e+04</td> <td>  489.110</td> <td>   48.376</td> <td> 0.000</td> <td> 2.27e+04</td> <td> 2.46e+04</td>\n",
              "</tr>\n",
              "<tr>\n",
              "  <th>umur</th>    <td>  254.2730</td> <td>   14.071</td> <td>   18.071</td> <td> 0.000</td> <td>  226.661</td> <td>  281.885</td>\n",
              "</tr>\n",
              "<tr>\n",
              "  <th>bmi</th>     <td>  315.0501</td> <td>   31.696</td> <td>    9.940</td> <td> 0.000</td> <td>  252.851</td> <td>  377.249</td>\n",
              "</tr>\n",
              "</table>\n",
              "<table class=\"simpletable\">\n",
              "<tr>\n",
              "  <th>Omnibus:</th>       <td>246.890</td> <th>  Durbin-Watson:     </th> <td>   1.999</td> \n",
              "</tr>\n",
              "<tr>\n",
              "  <th>Prob(Omnibus):</th> <td> 0.000</td>  <th>  Jarque-Bera (JB):  </th> <td> 601.890</td> \n",
              "</tr>\n",
              "<tr>\n",
              "  <th>Skew:</th>          <td> 1.303</td>  <th>  Prob(JB):          </th> <td>2.00e-131</td>\n",
              "</tr>\n",
              "<tr>\n",
              "  <th>Kurtosis:</th>      <td> 5.759</td>  <th>  Cond. No.          </th> <td>    286.</td> \n",
              "</tr>\n",
              "</table><br/><br/>Notes:<br/>[1] Standard Errors assume that the covariance matrix of the errors is correctly specified."
            ],
            "text/plain": [
              "<class 'statsmodels.iolib.summary.Summary'>\n",
              "\"\"\"\n",
              "                            OLS Regression Results                            \n",
              "==============================================================================\n",
              "Dep. Variable:                  biaya   R-squared:                       0.731\n",
              "Model:                            OLS   Adj. R-squared:                  0.730\n",
              "Method:                 Least Squares   F-statistic:                     904.0\n",
              "Date:                Sun, 06 Nov 2022   Prob (F-statistic):          4.60e-284\n",
              "Time:                        16:34:09   Log-Likelihood:                -10182.\n",
              "No. Observations:                1003   AIC:                         2.037e+04\n",
              "Df Residuals:                     999   BIC:                         2.039e+04\n",
              "Df Model:                           3                                         \n",
              "Covariance Type:            nonrobust                                         \n",
              "==============================================================================\n",
              "                 coef    std err          t      P>|t|      [0.025      0.975]\n",
              "------------------------------------------------------------------------------\n",
              "const      -1.123e+04   1090.228    -10.299      0.000   -1.34e+04   -9088.345\n",
              "perokok     2.366e+04    489.110     48.376      0.000    2.27e+04    2.46e+04\n",
              "umur         254.2730     14.071     18.071      0.000     226.661     281.885\n",
              "bmi          315.0501     31.696      9.940      0.000     252.851     377.249\n",
              "==============================================================================\n",
              "Omnibus:                      246.890   Durbin-Watson:                   1.999\n",
              "Prob(Omnibus):                  0.000   Jarque-Bera (JB):              601.890\n",
              "Skew:                           1.303   Prob(JB):                    2.00e-131\n",
              "Kurtosis:                       5.759   Cond. No.                         286.\n",
              "==============================================================================\n",
              "\n",
              "Notes:\n",
              "[1] Standard Errors assume that the covariance matrix of the errors is correctly specified.\n",
              "\"\"\""
            ]
          },
          "execution_count": 197,
          "metadata": {},
          "output_type": "execute_result"
        }
      ],
      "source": [
        "import statsmodels.api as sm\n",
        "x_train = sm.add_constant(X_train)\n",
        "results = sm.OLS(y_train, x_train).fit()\n",
        "results.summary()"
      ]
    },
    {
      "cell_type": "markdown",
      "source": [
        "#### Conclusion"
      ],
      "metadata": {
        "id": "VGRF8-yg4h4i"
      },
      "id": "VGRF8-yg4h4i"
    },
    {
      "cell_type": "markdown",
      "source": [
        "Model ini hanya menggunakan tiga atribut dengan korelasi tertinggi terhadap label biaya yaitu perokok, umur, dan bmi. Hasilnya tidak berbeda jauh dengan model yang menggunakan semua atribut dimana RMSEnya bernilai 5716,48 dan R-squared bernilai 0,73. <br><br>\n",
        "Pada eksperimen ini dapat disimpulkan bahwa metode feature selection yaitu hanya menggunakan atribut dengan korelasi tertinggi tidak terlalu efektif untuk meningkatkan kinerja model. <br><br>\n",
        "Alternatif solusinya adalah dengan mencoba metode regresi yang lain seperti XGBregressor, ANN, dan lain-lain. Reduksi dimensi dengan metode feature extraction seperti PCA juga bisa diaplikasikan.\n"
      ],
      "metadata": {
        "id": "feOyhpAb4tIk"
      },
      "id": "feOyhpAb4tIk"
    },
    {
      "cell_type": "code",
      "source": [],
      "metadata": {
        "id": "1N-NetBP58KT"
      },
      "id": "1N-NetBP58KT",
      "execution_count": null,
      "outputs": []
    }
  ],
  "metadata": {
    "kernelspec": {
      "display_name": "Python 3 (ipykernel)",
      "language": "python",
      "name": "python3"
    },
    "language_info": {
      "codemirror_mode": {
        "name": "ipython",
        "version": 3
      },
      "file_extension": ".py",
      "mimetype": "text/x-python",
      "name": "python",
      "nbconvert_exporter": "python",
      "pygments_lexer": "ipython3",
      "version": "3.9.12"
    },
    "colab": {
      "provenance": []
    }
  },
  "nbformat": 4,
  "nbformat_minor": 5
}